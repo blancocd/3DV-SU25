{
 "cells": [
  {
   "cell_type": "markdown",
   "id": "a9561322",
   "metadata": {},
   "source": [
    "# Implement the Direct Linear Transform (DLT) algorithm (16 Points)"
   ]
  },
  {
   "cell_type": "code",
   "execution_count": null,
   "id": "92a3ef63",
   "metadata": {},
   "outputs": [],
   "source": [
    "import numpy as np\n",
    "from utils._dlt_utils import load_given, plot_2dpointclouds, add_noise, is_rot_mat\n",
    "import matplotlib.pyplot as plt"
   ]
  },
  {
   "cell_type": "markdown",
   "id": "cd03042f",
   "metadata": {},
   "source": [
    "# Loading Data\n",
    "We first load the 3D pointcloud and the corresponding 2D point cloud, as well as the intrinsics $\\mathbf K$."
   ]
  },
  {
   "cell_type": "code",
   "execution_count": null,
   "id": "42c36001",
   "metadata": {},
   "outputs": [],
   "source": [
    "p3d, p2d, K = load_given()"
   ]
  },
  {
   "cell_type": "markdown",
   "id": "5cd55851",
   "metadata": {},
   "source": [
    "# Helper Functions (2 Points)\n",
    "Write helper functions to homogenize points, and calibrate the 2d points such that we can w.l.o.g. assume that the camera is calibrated.\n",
    "`homogenize` takes n dimensional points and returns them in homogeneous coordinates. `calibrate` takes 2D points and the camera intrinsics, and returns the calibrated 2D points (see theoretical exercise (a))."
   ]
  },
  {
   "cell_type": "code",
   "execution_count": null,
   "id": "0fd21887",
   "metadata": {},
   "outputs": [],
   "source": [
    "def homogenize(points):\n",
    "    \"\"\"\n",
    "        Convert nD points to (n+1)D homogeneous coordinates.\n",
    "        \n",
    "        Args:\n",
    "            points (np.ndarray): points of shape (N, n).\n",
    "        Returns:\n",
    "            np.ndarray: homogeneous coordinates of shape (N, n+1).\n",
    "    \"\"\"\n",
    "    # TODO: Implement the homogenize function\n",
    "    raise NotImplementedError(\"Homogenize function is not implemented yet.\")\n",
    "\n",
    "def calibrate(points_2d, K):\n",
    "    \"\"\"\n",
    "        Transform 2D points from into calibrated coordinates (i.e. as if K = I).\n",
    "        \n",
    "        Args:\n",
    "            points_2d (np.ndarray): 2D points of shape (N, 2).\n",
    "            K (np.ndarray): camera intrinsic matrix of shape (3, 3).\n",
    "        Returns:\n",
    "            np.ndarray: calibrated 2D points of shape (N, 3).\n",
    "    \"\"\"\n",
    "    # TODO: Implement the calibrate function\n",
    "    raise NotImplementedError(\"Calibrate function is not implemented yet.\")"
   ]
  },
  {
   "cell_type": "code",
   "execution_count": null,
   "id": "1e47ef07",
   "metadata": {},
   "outputs": [],
   "source": [
    "cal_p2d = calibrate(p2d, K)\n",
    "# We can plot the calibrated 2D points. The ranges should be between [-1, 1].\n",
    "plot_2dpointclouds(cal_p2d, \"Calibrated 2D points\")"
   ]
  },
  {
   "cell_type": "markdown",
   "id": "519f7e07",
   "metadata": {},
   "source": [
    "# Setting up the linear system (6 Points)\n",
    "In exercise (b) and (c) you have set up a matrix $\\mathbf M$ such that the solution to the linear system $\\mathbf M \\mathbf \\theta = \\mathbf 0$ can be used to estimate the camera pose. Write the function `setup_linear_system` which takes the 3D points, the 2D points as input and returns the matrix $\\mathbf M$."
   ]
  },
  {
   "cell_type": "code",
   "execution_count": null,
   "id": "1e1b31dc",
   "metadata": {},
   "outputs": [],
   "source": [
    "def setup_linear_system(p3d, p2d):\n",
    "    \"\"\"\n",
    "        Create the matrix M for the linear system M \\theta = 0 from exercise (b).\n",
    "        \n",
    "        Args:\n",
    "            p3d: Nx3 array of 3D points\n",
    "            p2d: Nx2 array of 2D points\n",
    "            \n",
    "        Returns:\n",
    "            M: Dx12 array describing the linear system\n",
    "    \"\"\" \n",
    "    # TODO: Implement the setup_linear_system function\n",
    "    raise NotImplementedError(\"setup_linear_system function is not implemented yet.\")"
   ]
  },
  {
   "cell_type": "code",
   "execution_count": null,
   "id": "79ab3e06",
   "metadata": {},
   "outputs": [],
   "source": [
    "M = setup_linear_system(p3d, cal_p2d)\n",
    "print(M.shape)"
   ]
  },
  {
   "cell_type": "markdown",
   "id": "21c74d05",
   "metadata": {},
   "source": [
    "# Solving in the least squares sense (2 Points)\n",
    "We are working with more points than necessary for the linear system to be solvable, because we are more interested in a solution that is robust to noise. Use the SVD to solve the linear system in the least squares sense (exercise (d)). The function `solve_linear_system` takes the matrix $\\mathbf M$ and returns the solution $\\mathbf \\theta$."
   ]
  },
  {
   "cell_type": "code",
   "execution_count": null,
   "id": "88ec3969",
   "metadata": {},
   "outputs": [],
   "source": [
    "def solve_least_squares(M):\n",
    "    \"\"\"\n",
    "        Solve the linear system M \\theta = 0 in the least squares sense.\n",
    "        \n",
    "        Args:\n",
    "            M: Dx12 array describing the linear system\n",
    "            \n",
    "        Returns:\n",
    "            theta: 12 array containing the solution\n",
    "    \"\"\"\n",
    "    # TODO: Implement the solve_least_squares function\n",
    "    raise NotImplementedError(\"solve_least_squares function is not implemented yet.\")"
   ]
  },
  {
   "cell_type": "code",
   "execution_count": null,
   "id": "0d68619f",
   "metadata": {},
   "outputs": [],
   "source": [
    "theta = solve_least_squares(M)\n",
    "print(theta)"
   ]
  },
  {
   "cell_type": "markdown",
   "id": "4caef540",
   "metadata": {},
   "source": [
    "# Extracting the camera pose (4 Points)\n",
    "Use your approach from exercise (e) to extract the camera pose from the solution $\\mathbf \\theta$. The function `extract_camera_pose` takes the solution $\\mathbf \\theta$ and returns the camera pose in the form of a rotation matrix $\\mathbf R$ and a translation vector $\\mathbf t$. Make sure that your rotation matrix is orthogonal and has determinant 1. This is checked by the is_rot_mat function that is provided."
   ]
  },
  {
   "cell_type": "code",
   "execution_count": null,
   "id": "3af0f92c",
   "metadata": {},
   "outputs": [],
   "source": [
    "def extract_extrinsics(theta):\n",
    "    \"\"\"\n",
    "        Extract the extrinsics R and t from the solution theta.\n",
    "        \n",
    "        Args:\n",
    "            theta: 12 normalized array\n",
    "            \n",
    "        Returns:\n",
    "            R: 3x3 rotation matrix\n",
    "            t: 3x1 translation vector\n",
    "    \"\"\"\n",
    "    # TODO: Implement the extract_extrinsics function\n",
    "    raise NotImplementedError(\"extract_extrinsics function is not implemented yet.\")"
   ]
  },
  {
   "cell_type": "code",
   "execution_count": null,
   "id": "7942c2be",
   "metadata": {},
   "outputs": [],
   "source": [
    "R, t = extract_extrinsics(theta)\n",
    "is_rot_mat(R) # Check if R is a valid rotation matrix\n",
    "print(\"R:\\n\", R)\n",
    "print(\"t:\\n\", t)"
   ]
  },
  {
   "cell_type": "markdown",
   "id": "afc9aaad",
   "metadata": {},
   "source": [
    "# Visualize the result (1 Points)\n",
    "\n",
    "These are our estimates for the extrinsic parameters. Let us see how the 3D points are projected onto the image plane using these parameters. We will use the `reproject` function for this. Note that the reproject function does not assume a calibrated camera, and therefore takes $\\mathbf K$ as an argument. We will compare the resulting 2D points with the original 2D points before the calibration step."
   ]
  },
  {
   "cell_type": "code",
   "execution_count": null,
   "id": "ec12949a",
   "metadata": {},
   "outputs": [],
   "source": [
    "def reproject(p3d, R, t, K):\n",
    "    \"\"\"\n",
    "        Reproject 3D points to 2D using the extrinsics R and t.\n",
    "        \n",
    "        Args:\n",
    "            p3d: Nx3 array of 3D points\n",
    "            R: 3x3 rotation matrix\n",
    "            t: 3x1 translation vector\n",
    "            K: 3x3 intrinsic matrix\n",
    "            \n",
    "        Returns:\n",
    "            p2d: Nx2 array of 2D points\n",
    "    \"\"\"\n",
    "    # TODO: Implement the reproject function\n",
    "    raise NotImplementedError(\"Reproject function is not implemented yet.\")\n"
   ]
  },
  {
   "cell_type": "code",
   "execution_count": null,
   "id": "8e121838",
   "metadata": {},
   "outputs": [],
   "source": [
    "estimated_2d_points = reproject(p3d, R, t, K)\n",
    "plot_2dpointclouds([p2d, estimated_2d_points], [\"Ground Truth\", \"Estimated\"])"
   ]
  },
  {
   "cell_type": "markdown",
   "id": "1dda45b6",
   "metadata": {},
   "source": [
    "# Reprojection Error (1 Points)\n",
    "Finally, we want to compute the reprojection error. The mean reprojection error is defined as\n",
    "$$\n",
    "    E = \\frac{1}{N} \\sum \\limits_{i=1}^{N} \\| \\mathbf{p}_i - \\mathbf{p}_i^{\\prime} \\|\n",
    "$$\n",
    "where $\\mathbf{p}_i$ is the original 2D point and $\\mathbf{p}_i^{\\prime}$ is the reprojected 2D point given the estimated camera pose. It measures the average offset of image points, measured in pixels.\n",
    "\n",
    "Fill in the missing code in the following cell to compute the reprojection error given the two 2D point clouds."
   ]
  },
  {
   "cell_type": "code",
   "execution_count": null,
   "id": "5efa7cae",
   "metadata": {},
   "outputs": [],
   "source": [
    "def reprojection_error(p2d, estimated_p2d):\n",
    "    \"\"\"\n",
    "        Compute the reprojection error of the estimated extrinsics.\n",
    "        \n",
    "        Args:\n",
    "            p2d: Nx2 array of ground_truth 2D points\n",
    "            estimated_p2d: Nx2 array of estimated 2D points\n",
    "            \n",
    "        Returns:\n",
    "            error: reprojection error in pixels\n",
    "    \"\"\"\n",
    "    # TODO: Implement the reprojection error function\n",
    "    raise NotImplementedError(\"Reprojection error function is not implemented yet.\")"
   ]
  },
  {
   "cell_type": "code",
   "execution_count": null,
   "id": "0d8839d3",
   "metadata": {},
   "outputs": [],
   "source": [
    "error = reprojection_error(p2d, estimated_2d_points)\n",
    "print(error)"
   ]
  }
 ],
 "metadata": {
  "kernelspec": {
   "display_name": "jupyter",
   "language": "python",
   "name": "python3"
  },
  "language_info": {
   "codemirror_mode": {
    "name": "ipython",
    "version": 3
   },
   "file_extension": ".py",
   "mimetype": "text/x-python",
   "name": "python",
   "nbconvert_exporter": "python",
   "pygments_lexer": "ipython3",
   "version": "3.8.20"
  }
 },
 "nbformat": 4,
 "nbformat_minor": 5
}
