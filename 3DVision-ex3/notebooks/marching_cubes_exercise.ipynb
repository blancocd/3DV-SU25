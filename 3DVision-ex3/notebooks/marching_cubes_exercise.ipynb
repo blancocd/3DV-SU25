{
  "cells": [
    {
      "cell_type": "markdown",
      "id": "e87fdd12",
      "metadata": {
        "id": "e87fdd12"
      },
      "source": [
        "# 📚 Marching Cubes Exercise (12 Points)\n",
        "**From Scalar Fields to Watertight Meshes**  \n",
        "*Implementation with Parallel Processing*"
      ]
    },
    {
      "cell_type": "markdown",
      "id": "340ea8ab",
      "metadata": {
        "id": "340ea8ab"
      },
      "source": [
        "## 🧩 1. Environment Setup\n",
        "Import core dependencies and lookup tables:"
      ]
    },
    {
      "cell_type": "code",
      "execution_count": null,
      "id": "e253fe1d",
      "metadata": {
        "id": "e253fe1d"
      },
      "outputs": [],
      "source": [
        "import numpy as np\n",
        "import multiprocessing as mp\n",
        "from utils.consts import EDGE_TABLE, TRIANGLE_TABLE, EDGE_VERTICES"
      ]
    },
    {
      "cell_type": "markdown",
      "id": "242dd070",
      "metadata": {
        "id": "242dd070"
      },
      "source": [
        "## ⚙️ 2. Core Class Structure (8 Points)\n",
        "Initialize the Marching Cubes processor with parallel capabilities:\n",
        "- **Exercise 1:** Complete⚡ 5. Vertex Interpolation using the following information\n",
        "\n",
        "**Voxel Coordinates (i,j,k):**\n",
        "   - The base coordinates of the current cube in the 3D grid\n",
        "   - Cube spans from (i,j,k) to (i+1,j+1,k+1)\n",
        "\n",
        "**Linear Interpolation (t):**\n",
        "   - Calculates intersection point along edge using formula:\n",
        "     `t = (iso - val1)/(val2 - val1)`\n",
        "   - Only computed when edge crosses isosurface (one value ≥ iso, other < iso)\n",
        "\n",
        "**Local Offsets (dx, dy, dz):**\n",
        "   - Determined by corner index's binary representation\n",
        "   - Example: Corner 3 (binary 011) → dx=1, dy=1, dz=0\n",
        "\n",
        "**Global Position Calculation:**\n",
        "   ```python\n",
        "   x = i + dx1 + t*(dx2 - dx1)\n",
        "   ```\n",
        "   - `i` = voxel's x-coordinate\n",
        "   - `dx1` = start corner's x-offset (0 or 1)\n",
        "   - `dx2 - dx1` = direction vector component (always 0 except for the edge's axis)"
      ]
    },
    {
      "cell_type": "code",
      "execution_count": null,
      "id": "9d2a21f0",
      "metadata": {
        "id": "9d2a21f0"
      },
      "outputs": [],
      "source": [
        "class MarchingCubes:\n",
        "    def __init__(self, scalar_field, isovalue=0.0, num_processes=1):\n",
        "        \"\"\"\n",
        "        Initialize Marching Cubes algorithm with scalar field and isovalue.\n",
        "\n",
        "        Args:\n",
        "            scalar_field (np.ndarray): 3D scalar field (density values)\n",
        "            isovalue (float): Surface threshold value\n",
        "            num_processes (int): Number of processes for parallelization\n",
        "        \"\"\"\n",
        "        self.scalar_field = scalar_field\n",
        "        self.isovalue = isovalue\n",
        "        self.num_processes = num_processes\n",
        "\n",
        "    def generate(self):\n",
        "        \"\"\"\n",
        "        Generate mesh vertices and triangles using Marching Cubes with multiprocessing.\n",
        "\n",
        "        Returns:\n",
        "            vertices (np.ndarray): Unique vertex coordinates (N, 3)\n",
        "            triangles (np.ndarray): Triangle indices (M, 3)\n",
        "        \"\"\"\n",
        "        chunks = self._create_chunks()\n",
        "        all_triangles = self._process_chunks(chunks)\n",
        "        vertices, triangles = self._deduplicate_vertices(all_triangles)\n",
        "        return vertices, triangles\n",
        "\n",
        "    ## 🧊 3. Parallel Processing Setup\n",
        "    # Chunking strategy for multi-core execution:\n",
        "    def _create_chunks(self):\n",
        "        \"\"\"Split voxel indices along x-axis for parallel processing.\"\"\"\n",
        "        nx = self.scalar_field.shape[0]\n",
        "        x_indices = np.arange(nx - 1)\n",
        "        return np.array_split(x_indices, self.num_processes)\n",
        "\n",
        "    def _process_chunks(self, chunks):\n",
        "        \"\"\"Process each chunk in parallel and collect triangles.\"\"\"\n",
        "        with mp.Pool(self.num_processes) as pool:\n",
        "            args = [(self.scalar_field, self.isovalue, chunk) for chunk in chunks]\n",
        "            results = pool.map(self._process_chunk, args)\n",
        "        return [tri for chunk_tris in results for tri in chunk_tris]\n",
        "\n",
        "    ## 🔬 4. Voxel Processing Core\n",
        "    # Cube configuration analysis and edge detection:\n",
        "    @staticmethod\n",
        "    def _process_chunk(args):\n",
        "        \"\"\"Static method to process chunk of voxels (compatible with multiprocessing).\"\"\"\n",
        "        scalar_field, isovalue, x_range = args\n",
        "        nx, ny, nz = scalar_field.shape\n",
        "        triangles = []\n",
        "\n",
        "        for i in x_range:\n",
        "            for j in range(ny - 1):\n",
        "                for k in range(nz - 1):\n",
        "                    # Get 8 corner values for current voxel\n",
        "                    voxel_values = [\n",
        "                        scalar_field[i, j, k], scalar_field[i+1, j, k],\n",
        "                        scalar_field[i, j+1, k], scalar_field[i+1, j+1, k],\n",
        "                        scalar_field[i, j, k+1], scalar_field[i+1, j, k+1],\n",
        "                        scalar_field[i, j+1, k+1], scalar_field[i+1, j+1, k+1]\n",
        "                    ]\n",
        "                    # Calculate cube index\n",
        "                    cube_index = sum((1 << idx) for idx, val in enumerate(voxel_values) if val >= isovalue)\n",
        "                    # Get active edges and generate triangles\n",
        "                    edge_table_entry = EDGE_TABLE[cube_index]\n",
        "                    if edge_table_entry == 0:\n",
        "                        continue\n",
        "                    # Compute vertices for active edges\n",
        "                    edge_verts = MarchingCubes._compute_edge_vertices(i, j, k, voxel_values, edge_table_entry, isovalue)\n",
        "                    # Generate triangles using triangle table\n",
        "                    triangles += MarchingCubes._generate_triangles(cube_index, edge_verts)\n",
        "        return triangles\n",
        "\n",
        "    ## ⚡ 5. Vertex Interpolation\n",
        "    @staticmethod\n",
        "    def _compute_edge_vertices(self, i, j, k, voxel_values, edge_table_entry, isovalue):\n",
        "        \"\"\"Compute interpolated vertices for active edges in a voxel using Marching Cubes.\n",
        "\n",
        "        Args:\n",
        "            i, j, k (int): Voxel grid coordinates (x, y, z) of the current cube's origin\n",
        "            voxel_values (list[float]): 8 scalar values at cube corners (ordered 0-7 per MC convention)\n",
        "            edge_table_entry (int): Bitmask from edge table indicating active edges (12-bit flag)\n",
        "            isovalue (float): Surface threshold value for interpolation\n",
        "\n",
        "        Returns:\n",
        "            dict: Edge number to (x,y,z) coordinates of interpolated vertices\n",
        "        \"\"\"\n",
        "        edge_verts = {}  # Stores {edge_number: (x,y,z)} for active edges with intersections\n",
        "\n",
        "        # Iterate through all 12 potential cube edges\n",
        "        for edge_num in range(12):\n",
        "            # Skip if edge isn't active (bit not set in edge_table_entry)\n",
        "            if not (edge_table_entry & (1 << edge_num)):\n",
        "                continue\n",
        "\n",
        "            # Get corner indices for this edge's endpoints (c1, c2)\n",
        "            c1, c2 = EDGE_VERTICES[edge_num]\n",
        "\n",
        "            # Get scalar values at both corners\n",
        "            val1, val2 = voxel_values[c1], voxel_values[c2]\n",
        "\n",
        "            # Skip if both corners are on same side of isosurface (no intersection)\n",
        "            if (val1 >= isovalue) == (val2 >= isovalue):\n",
        "                continue\n",
        "\n",
        "            # Linear interpolation factor (0-1) between corners\n",
        "            # Your implementation should start here ...\n",
        "            t = ...\n",
        "\n",
        "            # Calculate local coordinates (within voxel) for both corners\n",
        "            # Corner indices use 3-bit format: LSB = x, middle = y, MSB = z\n",
        "            dx1, dy1, dz1 = (c1 & 1), ((c1 >> 1) & 1), ((c1 >> 2) & 1)\n",
        "            dx2, dy2, dz2 = (c2 & 1), ((c2 >> 1) & 1), ((c2 >> 2) & 1)\n",
        "\n",
        "            # Compute global coordinates using voxel origin (i,j,k) + interpolated offset\n",
        "            # Only one axis changes between c1-c2 (dx2-dx1=1 for x-edge, etc.)\n",
        "            # Your implementation should start here ...\n",
        "            x = ...\n",
        "            y = ...\n",
        "            z = ...\n",
        "\n",
        "            edge_verts[edge_num] = (x, y, z)\n",
        "\n",
        "        return edge_verts\n",
        "\n",
        "    ## 🔺 6. Triangle Generation\n",
        "    # Creating triangles from edge vertices:\n",
        "    @staticmethod\n",
        "    def _generate_triangles(cube_index, edge_verts):\n",
        "        \"\"\"Generate triangles for voxel using precomputed edge vertices.\"\"\"\n",
        "        triangles = []\n",
        "        tri_table_entry = TRIANGLE_TABLE[cube_index]\n",
        "        for i in range(0, len(tri_table_entry), 3):\n",
        "            edges = tri_table_entry[i:i+3]\n",
        "            if -1 in edges:\n",
        "                break\n",
        "            try:\n",
        "                tri = [edge_verts[e] for e in edges]\n",
        "                triangles.append(tri)\n",
        "            except KeyError:\n",
        "                continue  # Skip incomplete triangles (shouldn't occur with correct tables)\n",
        "        return triangles\n",
        "\n",
        "    ## 🧵 7. Vertex Deduplication\n",
        "    # Creating unique vertex list:\n",
        "    @staticmethod\n",
        "    def _deduplicate_vertices(triangles):\n",
        "        \"\"\"Deduplicate vertices and remap triangle indices.\"\"\"\n",
        "        vertex_map = {}\n",
        "        unique_vertices = []\n",
        "        indices = []\n",
        "\n",
        "        for tri in triangles:\n",
        "            for vertex in tri:\n",
        "                key = tuple(np.round(vertex, 6))\n",
        "                if key not in vertex_map:\n",
        "                    vertex_map[key] = len(unique_vertices)\n",
        "                    unique_vertices.append(vertex)\n",
        "                indices.append(vertex_map[key])\n",
        "\n",
        "        # Reshape indices into triangles\n",
        "        triangles = np.array(indices, dtype=np.int32).reshape(-1, 3)\n",
        "        return np.array(unique_vertices), triangles"
      ]
    },
    {
      "cell_type": "markdown",
      "id": "b90f261f",
      "metadata": {
        "id": "b90f261f"
      },
      "source": [
        "## 🧪 8. Test Surfaces (2 Points)\n",
        "Implicit surface definitions:\n",
        "- **Exercise 2: Complete the implicit function definition for Torus Surface**\n",
        "- **Exercise 3: Complete the implicit function definition for Cube Surface**"
      ]
    },
    {
      "cell_type": "code",
      "execution_count": null,
      "id": "bd35d22b",
      "metadata": {
        "id": "bd35d22b"
      },
      "outputs": [],
      "source": [
        "# Test Cases\n",
        "class ImplicitSurfaces:\n",
        "    @staticmethod\n",
        "    def sphere(resolution=(64, 64, 64), radius=1.0):\n",
        "        \"\"\"Generate scalar field for a sphere.\"\"\"\n",
        "        x = np.linspace(-2, 2, resolution[0])\n",
        "        y = np.linspace(-2, 2, resolution[1])\n",
        "        z = np.linspace(-2, 2, resolution[2])\n",
        "        X, Y, Z = np.meshgrid(x, y, z, indexing='ij')\n",
        "        return X**2 + Y**2 + Z**2 - radius**2\n",
        "\n",
        "    @staticmethod\n",
        "    def torus(resolution=(64, 64, 64), R=1.0, r=0.5):\n",
        "        \"\"\"\n",
        "        Generate scalar field for a torus:\n",
        "        The implicit equation for a torus centered at the origin is:\n",
        "\n",
        "            (√(x² + y²) - R)² + z² = r²\n",
        "            Where:\n",
        "\n",
        "            R = Major radius (distance from center of tube to center of torus)\n",
        "\n",
        "            r = Minor radius (radius of the tube)\n",
        "        \"\"\"\n",
        "        # Your implementation should start here ...\n",
        "        x = ...\n",
        "        y = ...\n",
        "        z = ...\n",
        "        return NotImplementedError\n",
        "\n",
        "    @staticmethod\n",
        "    def cube(shape=(64, 64, 64), size=1.2):\n",
        "        \"\"\"\n",
        "        Generate scalar field for a cube.\n",
        "        The implicit equation for an axis-aligned cube centered at the origin\n",
        "        is defined using the L-∞ norm (maximum norm):\n",
        "            f(x,y,z) = \\max(|x|, |y|, |z|) - s\n",
        "        Where:\n",
        "            s = Half side length (distance from center to face)\n",
        "            Surface exists where f(x,y,z) = 0\n",
        "            Negative values → Inside cube\n",
        "            Positive values → Outside cube\n",
        "        \"\"\"\n",
        "        # Your implementation should start here ...\n",
        "        x = ...\n",
        "        y = ...\n",
        "        z = ...\n",
        "        return NotImplementedError"
      ]
    },
    {
      "cell_type": "markdown",
      "id": "bf924938",
      "metadata": {
        "id": "bf924938"
      },
      "source": [
        "## 📊 9. Execution & Visualization (2 Points)\n",
        "Test surface reconstruction:"
      ]
    },
    {
      "cell_type": "code",
      "execution_count": null,
      "id": "6c5eaf96",
      "metadata": {
        "colab": {
          "base_uri": "https://localhost:8080/"
        },
        "id": "6c5eaf96",
        "outputId": "3eb929fc-b67e-49c7-8eee-9b16e47cccd7"
      },
      "outputs": [],
      "source": [
        "if __name__ == \"__main__\":\n",
        "    # Sphere test\n",
        "    field = ImplicitSurfaces.sphere(resolution=(64, 64, 64))\n",
        "    mc = MarchingCubes(field, num_processes=4)\n",
        "    vertices, triangles = mc.generate()\n",
        "    print(f\"Sphere: {len(vertices)} vertices, {len(triangles)} triangles\")\n",
        "\n",
        "    # Torus test ...\n",
        "\n",
        "    # Cube test ..."
      ]
    },
    {
      "cell_type": "code",
      "execution_count": null,
      "id": "63edf9ab",
      "metadata": {
        "colab": {
          "base_uri": "https://localhost:8080/",
          "height": 417
        },
        "id": "63edf9ab",
        "outputId": "428d3af7-8120-487c-b397-55c240b46ff1"
      },
      "outputs": [],
      "source": [
        "import open3d\n",
        "mesh = open3d.geometry.TriangleMesh()\n",
        "# From numpy to Open3D vertices\n",
        "mesh.vertices = open3d.utility.Vector3dVector(vertices)\n",
        "# From numpy to Open3D triangles\n",
        "mesh.triangles = open3d.utility.Vector3iVector(triangles)\n",
        "open3d.visualization.draw_plotly(geometry_list=[mesh])"
      ]
    },
    {
      "cell_type": "markdown",
      "id": "2be9ce02",
      "metadata": {},
      "source": [
        "**Expected Results**:<br>\n",
        "![Sphere](./../data/sphere_mc.png)\n",
        "![Torus](./../data/torus_mc.png)\n",
        "![Cube](./../data/cube_mc.png)"
      ]
    }
  ],
  "metadata": {
    "colab": {
      "provenance": []
    },
    "kernelspec": {
      "display_name": "base",
      "language": "python",
      "name": "python3"
    },
    "language_info": {
      "codemirror_mode": {
        "name": "ipython",
        "version": 3
      },
      "file_extension": ".py",
      "mimetype": "text/x-python",
      "name": "python",
      "nbconvert_exporter": "python",
      "pygments_lexer": "ipython3",
      "version": "3.10.16"
    }
  },
  "nbformat": 4,
  "nbformat_minor": 5
}
