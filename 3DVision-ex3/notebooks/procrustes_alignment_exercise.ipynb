{
  "cells": [
    {
      "cell_type": "markdown",
      "id": "cedf4add",
      "metadata": {
        "id": "cedf4add"
      },
      "source": [
        "# 📚 Procrustes Alignment Exercise on Standford Bunny 🐇 (16 Points)\n",
        "## 🔍 Align 3D Point Clouds with Rigid Transformations"
      ]
    },
    {
      "cell_type": "markdown",
      "id": "ad60cb35",
      "metadata": {
        "id": "ad60cb35"
      },
      "source": [
        "## 🛠 Setup Environment\n",
        "First, let's install required packages:"
      ]
    },
    {
      "cell_type": "markdown",
      "id": "6952a6dc",
      "metadata": {
        "id": "6952a6dc"
      },
      "source": [
        "## 📦 Import Libraries"
      ]
    },
    {
      "cell_type": "code",
      "execution_count": 1,
      "id": "58920826",
      "metadata": {
        "id": "58920826"
      },
      "outputs": [
        {
          "name": "stdout",
          "output_type": "stream",
          "text": [
            "Jupyter environment detected. Enabling Open3D WebVisualizer.\n",
            "[Open3D INFO] WebRTC GUI backend enabled.\n",
            "[Open3D INFO] WebRTCWindowSystem: HTTP handshake server disabled.\n"
          ]
        }
      ],
      "source": [
        "import open3d as o3d\n",
        "import numpy as np\n",
        "import matplotlib.pyplot as plt\n",
        "from IPython.display import Markdown\n",
        "\n",
        "# Set random seed for reproducibility\n",
        "np.random.seed(42)"
      ]
    },
    {
      "cell_type": "markdown",
      "id": "44a676be",
      "metadata": {
        "id": "44a676be"
      },
      "source": [
        "## 🐰 Load Stanford Bunny"
      ]
    },
    {
      "cell_type": "code",
      "execution_count": 2,
      "id": "e25b16cd",
      "metadata": {
        "colab": {
          "base_uri": "https://localhost:8080/",
          "height": 417
        },
        "id": "e25b16cd",
        "outputId": "75cc2026-5b86-438d-ca27-40a73f3203e1"
      },
      "outputs": [
        {
          "name": "stdout",
          "output_type": "stream",
          "text": [
            "[Open3D INFO] Downloading https://github.com/isl-org/open3d_downloads/releases/download/20220201-data/BunnyMesh.ply\n",
            "[Open3D INFO] Downloaded to /home/blancocd/open3d_data/download/BunnyMesh/BunnyMesh.ply\n"
          ]
        },
        {
          "data": {
            "application/vnd.plotly.v1+json": {
              "config": {
                "plotlyServerURL": "https://plot.ly"
              },
              "data": [
                {
                  "marker": {
                    "color": {
                      "bdata": "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",
                      "dtype": "f8",
                      "shape": "750, 3"
                    },
                    "size": 1
                  },
                  "mode": "markers",
                  "type": "scatter3d",
                  "x": {
                    "bdata": "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",
                    "dtype": "f8"
                  },
                  "y": {
                    "bdata": "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",
                    "dtype": "f8"
                  },
                  "z": {
                    "bdata": "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",
                    "dtype": "f8"
                  }
                }
              ],
              "layout": {
                "height": 400,
                "margin": {
                  "b": 0,
                  "l": 0,
                  "r": 0,
                  "t": 0
                },
                "scene": {
                  "camera": {
                    "center": {
                      "x": 0,
                      "y": 0,
                      "z": 0
                    },
                    "up": {
                      "x": 0,
                      "y": 0,
                      "z": 1
                    }
                  }
                },
                "showlegend": false,
                "template": {
                  "data": {
                    "bar": [
                      {
                        "error_x": {
                          "color": "#2a3f5f"
                        },
                        "error_y": {
                          "color": "#2a3f5f"
                        },
                        "marker": {
                          "line": {
                            "color": "#E5ECF6",
                            "width": 0.5
                          },
                          "pattern": {
                            "fillmode": "overlay",
                            "size": 10,
                            "solidity": 0.2
                          }
                        },
                        "type": "bar"
                      }
                    ],
                    "barpolar": [
                      {
                        "marker": {
                          "line": {
                            "color": "#E5ECF6",
                            "width": 0.5
                          },
                          "pattern": {
                            "fillmode": "overlay",
                            "size": 10,
                            "solidity": 0.2
                          }
                        },
                        "type": "barpolar"
                      }
                    ],
                    "carpet": [
                      {
                        "aaxis": {
                          "endlinecolor": "#2a3f5f",
                          "gridcolor": "white",
                          "linecolor": "white",
                          "minorgridcolor": "white",
                          "startlinecolor": "#2a3f5f"
                        },
                        "baxis": {
                          "endlinecolor": "#2a3f5f",
                          "gridcolor": "white",
                          "linecolor": "white",
                          "minorgridcolor": "white",
                          "startlinecolor": "#2a3f5f"
                        },
                        "type": "carpet"
                      }
                    ],
                    "choropleth": [
                      {
                        "colorbar": {
                          "outlinewidth": 0,
                          "ticks": ""
                        },
                        "type": "choropleth"
                      }
                    ],
                    "contour": [
                      {
                        "colorbar": {
                          "outlinewidth": 0,
                          "ticks": ""
                        },
                        "colorscale": [
                          [
                            0,
                            "#0d0887"
                          ],
                          [
                            0.1111111111111111,
                            "#46039f"
                          ],
                          [
                            0.2222222222222222,
                            "#7201a8"
                          ],
                          [
                            0.3333333333333333,
                            "#9c179e"
                          ],
                          [
                            0.4444444444444444,
                            "#bd3786"
                          ],
                          [
                            0.5555555555555556,
                            "#d8576b"
                          ],
                          [
                            0.6666666666666666,
                            "#ed7953"
                          ],
                          [
                            0.7777777777777778,
                            "#fb9f3a"
                          ],
                          [
                            0.8888888888888888,
                            "#fdca26"
                          ],
                          [
                            1,
                            "#f0f921"
                          ]
                        ],
                        "type": "contour"
                      }
                    ],
                    "contourcarpet": [
                      {
                        "colorbar": {
                          "outlinewidth": 0,
                          "ticks": ""
                        },
                        "type": "contourcarpet"
                      }
                    ],
                    "heatmap": [
                      {
                        "colorbar": {
                          "outlinewidth": 0,
                          "ticks": ""
                        },
                        "colorscale": [
                          [
                            0,
                            "#0d0887"
                          ],
                          [
                            0.1111111111111111,
                            "#46039f"
                          ],
                          [
                            0.2222222222222222,
                            "#7201a8"
                          ],
                          [
                            0.3333333333333333,
                            "#9c179e"
                          ],
                          [
                            0.4444444444444444,
                            "#bd3786"
                          ],
                          [
                            0.5555555555555556,
                            "#d8576b"
                          ],
                          [
                            0.6666666666666666,
                            "#ed7953"
                          ],
                          [
                            0.7777777777777778,
                            "#fb9f3a"
                          ],
                          [
                            0.8888888888888888,
                            "#fdca26"
                          ],
                          [
                            1,
                            "#f0f921"
                          ]
                        ],
                        "type": "heatmap"
                      }
                    ],
                    "histogram": [
                      {
                        "marker": {
                          "pattern": {
                            "fillmode": "overlay",
                            "size": 10,
                            "solidity": 0.2
                          }
                        },
                        "type": "histogram"
                      }
                    ],
                    "histogram2d": [
                      {
                        "colorbar": {
                          "outlinewidth": 0,
                          "ticks": ""
                        },
                        "colorscale": [
                          [
                            0,
                            "#0d0887"
                          ],
                          [
                            0.1111111111111111,
                            "#46039f"
                          ],
                          [
                            0.2222222222222222,
                            "#7201a8"
                          ],
                          [
                            0.3333333333333333,
                            "#9c179e"
                          ],
                          [
                            0.4444444444444444,
                            "#bd3786"
                          ],
                          [
                            0.5555555555555556,
                            "#d8576b"
                          ],
                          [
                            0.6666666666666666,
                            "#ed7953"
                          ],
                          [
                            0.7777777777777778,
                            "#fb9f3a"
                          ],
                          [
                            0.8888888888888888,
                            "#fdca26"
                          ],
                          [
                            1,
                            "#f0f921"
                          ]
                        ],
                        "type": "histogram2d"
                      }
                    ],
                    "histogram2dcontour": [
                      {
                        "colorbar": {
                          "outlinewidth": 0,
                          "ticks": ""
                        },
                        "colorscale": [
                          [
                            0,
                            "#0d0887"
                          ],
                          [
                            0.1111111111111111,
                            "#46039f"
                          ],
                          [
                            0.2222222222222222,
                            "#7201a8"
                          ],
                          [
                            0.3333333333333333,
                            "#9c179e"
                          ],
                          [
                            0.4444444444444444,
                            "#bd3786"
                          ],
                          [
                            0.5555555555555556,
                            "#d8576b"
                          ],
                          [
                            0.6666666666666666,
                            "#ed7953"
                          ],
                          [
                            0.7777777777777778,
                            "#fb9f3a"
                          ],
                          [
                            0.8888888888888888,
                            "#fdca26"
                          ],
                          [
                            1,
                            "#f0f921"
                          ]
                        ],
                        "type": "histogram2dcontour"
                      }
                    ],
                    "mesh3d": [
                      {
                        "colorbar": {
                          "outlinewidth": 0,
                          "ticks": ""
                        },
                        "type": "mesh3d"
                      }
                    ],
                    "parcoords": [
                      {
                        "line": {
                          "colorbar": {
                            "outlinewidth": 0,
                            "ticks": ""
                          }
                        },
                        "type": "parcoords"
                      }
                    ],
                    "pie": [
                      {
                        "automargin": true,
                        "type": "pie"
                      }
                    ],
                    "scatter": [
                      {
                        "fillpattern": {
                          "fillmode": "overlay",
                          "size": 10,
                          "solidity": 0.2
                        },
                        "type": "scatter"
                      }
                    ],
                    "scatter3d": [
                      {
                        "line": {
                          "colorbar": {
                            "outlinewidth": 0,
                            "ticks": ""
                          }
                        },
                        "marker": {
                          "colorbar": {
                            "outlinewidth": 0,
                            "ticks": ""
                          }
                        },
                        "type": "scatter3d"
                      }
                    ],
                    "scattercarpet": [
                      {
                        "marker": {
                          "colorbar": {
                            "outlinewidth": 0,
                            "ticks": ""
                          }
                        },
                        "type": "scattercarpet"
                      }
                    ],
                    "scattergeo": [
                      {
                        "marker": {
                          "colorbar": {
                            "outlinewidth": 0,
                            "ticks": ""
                          }
                        },
                        "type": "scattergeo"
                      }
                    ],
                    "scattergl": [
                      {
                        "marker": {
                          "colorbar": {
                            "outlinewidth": 0,
                            "ticks": ""
                          }
                        },
                        "type": "scattergl"
                      }
                    ],
                    "scattermap": [
                      {
                        "marker": {
                          "colorbar": {
                            "outlinewidth": 0,
                            "ticks": ""
                          }
                        },
                        "type": "scattermap"
                      }
                    ],
                    "scattermapbox": [
                      {
                        "marker": {
                          "colorbar": {
                            "outlinewidth": 0,
                            "ticks": ""
                          }
                        },
                        "type": "scattermapbox"
                      }
                    ],
                    "scatterpolar": [
                      {
                        "marker": {
                          "colorbar": {
                            "outlinewidth": 0,
                            "ticks": ""
                          }
                        },
                        "type": "scatterpolar"
                      }
                    ],
                    "scatterpolargl": [
                      {
                        "marker": {
                          "colorbar": {
                            "outlinewidth": 0,
                            "ticks": ""
                          }
                        },
                        "type": "scatterpolargl"
                      }
                    ],
                    "scatterternary": [
                      {
                        "marker": {
                          "colorbar": {
                            "outlinewidth": 0,
                            "ticks": ""
                          }
                        },
                        "type": "scatterternary"
                      }
                    ],
                    "surface": [
                      {
                        "colorbar": {
                          "outlinewidth": 0,
                          "ticks": ""
                        },
                        "colorscale": [
                          [
                            0,
                            "#0d0887"
                          ],
                          [
                            0.1111111111111111,
                            "#46039f"
                          ],
                          [
                            0.2222222222222222,
                            "#7201a8"
                          ],
                          [
                            0.3333333333333333,
                            "#9c179e"
                          ],
                          [
                            0.4444444444444444,
                            "#bd3786"
                          ],
                          [
                            0.5555555555555556,
                            "#d8576b"
                          ],
                          [
                            0.6666666666666666,
                            "#ed7953"
                          ],
                          [
                            0.7777777777777778,
                            "#fb9f3a"
                          ],
                          [
                            0.8888888888888888,
                            "#fdca26"
                          ],
                          [
                            1,
                            "#f0f921"
                          ]
                        ],
                        "type": "surface"
                      }
                    ],
                    "table": [
                      {
                        "cells": {
                          "fill": {
                            "color": "#EBF0F8"
                          },
                          "line": {
                            "color": "white"
                          }
                        },
                        "header": {
                          "fill": {
                            "color": "#C8D4E3"
                          },
                          "line": {
                            "color": "white"
                          }
                        },
                        "type": "table"
                      }
                    ]
                  },
                  "layout": {
                    "annotationdefaults": {
                      "arrowcolor": "#2a3f5f",
                      "arrowhead": 0,
                      "arrowwidth": 1
                    },
                    "autotypenumbers": "strict",
                    "coloraxis": {
                      "colorbar": {
                        "outlinewidth": 0,
                        "ticks": ""
                      }
                    },
                    "colorscale": {
                      "diverging": [
                        [
                          0,
                          "#8e0152"
                        ],
                        [
                          0.1,
                          "#c51b7d"
                        ],
                        [
                          0.2,
                          "#de77ae"
                        ],
                        [
                          0.3,
                          "#f1b6da"
                        ],
                        [
                          0.4,
                          "#fde0ef"
                        ],
                        [
                          0.5,
                          "#f7f7f7"
                        ],
                        [
                          0.6,
                          "#e6f5d0"
                        ],
                        [
                          0.7,
                          "#b8e186"
                        ],
                        [
                          0.8,
                          "#7fbc41"
                        ],
                        [
                          0.9,
                          "#4d9221"
                        ],
                        [
                          1,
                          "#276419"
                        ]
                      ],
                      "sequential": [
                        [
                          0,
                          "#0d0887"
                        ],
                        [
                          0.1111111111111111,
                          "#46039f"
                        ],
                        [
                          0.2222222222222222,
                          "#7201a8"
                        ],
                        [
                          0.3333333333333333,
                          "#9c179e"
                        ],
                        [
                          0.4444444444444444,
                          "#bd3786"
                        ],
                        [
                          0.5555555555555556,
                          "#d8576b"
                        ],
                        [
                          0.6666666666666666,
                          "#ed7953"
                        ],
                        [
                          0.7777777777777778,
                          "#fb9f3a"
                        ],
                        [
                          0.8888888888888888,
                          "#fdca26"
                        ],
                        [
                          1,
                          "#f0f921"
                        ]
                      ],
                      "sequentialminus": [
                        [
                          0,
                          "#0d0887"
                        ],
                        [
                          0.1111111111111111,
                          "#46039f"
                        ],
                        [
                          0.2222222222222222,
                          "#7201a8"
                        ],
                        [
                          0.3333333333333333,
                          "#9c179e"
                        ],
                        [
                          0.4444444444444444,
                          "#bd3786"
                        ],
                        [
                          0.5555555555555556,
                          "#d8576b"
                        ],
                        [
                          0.6666666666666666,
                          "#ed7953"
                        ],
                        [
                          0.7777777777777778,
                          "#fb9f3a"
                        ],
                        [
                          0.8888888888888888,
                          "#fdca26"
                        ],
                        [
                          1,
                          "#f0f921"
                        ]
                      ]
                    },
                    "colorway": [
                      "#636efa",
                      "#EF553B",
                      "#00cc96",
                      "#ab63fa",
                      "#FFA15A",
                      "#19d3f3",
                      "#FF6692",
                      "#B6E880",
                      "#FF97FF",
                      "#FECB52"
                    ],
                    "font": {
                      "color": "#2a3f5f"
                    },
                    "geo": {
                      "bgcolor": "white",
                      "lakecolor": "white",
                      "landcolor": "#E5ECF6",
                      "showlakes": true,
                      "showland": true,
                      "subunitcolor": "white"
                    },
                    "hoverlabel": {
                      "align": "left"
                    },
                    "hovermode": "closest",
                    "mapbox": {
                      "style": "light"
                    },
                    "paper_bgcolor": "white",
                    "plot_bgcolor": "#E5ECF6",
                    "polar": {
                      "angularaxis": {
                        "gridcolor": "white",
                        "linecolor": "white",
                        "ticks": ""
                      },
                      "bgcolor": "#E5ECF6",
                      "radialaxis": {
                        "gridcolor": "white",
                        "linecolor": "white",
                        "ticks": ""
                      }
                    },
                    "scene": {
                      "xaxis": {
                        "backgroundcolor": "#E5ECF6",
                        "gridcolor": "white",
                        "gridwidth": 2,
                        "linecolor": "white",
                        "showbackground": true,
                        "ticks": "",
                        "zerolinecolor": "white"
                      },
                      "yaxis": {
                        "backgroundcolor": "#E5ECF6",
                        "gridcolor": "white",
                        "gridwidth": 2,
                        "linecolor": "white",
                        "showbackground": true,
                        "ticks": "",
                        "zerolinecolor": "white"
                      },
                      "zaxis": {
                        "backgroundcolor": "#E5ECF6",
                        "gridcolor": "white",
                        "gridwidth": 2,
                        "linecolor": "white",
                        "showbackground": true,
                        "ticks": "",
                        "zerolinecolor": "white"
                      }
                    },
                    "shapedefaults": {
                      "line": {
                        "color": "#2a3f5f"
                      }
                    },
                    "ternary": {
                      "aaxis": {
                        "gridcolor": "white",
                        "linecolor": "white",
                        "ticks": ""
                      },
                      "baxis": {
                        "gridcolor": "white",
                        "linecolor": "white",
                        "ticks": ""
                      },
                      "bgcolor": "#E5ECF6",
                      "caxis": {
                        "gridcolor": "white",
                        "linecolor": "white",
                        "ticks": ""
                      }
                    },
                    "title": {
                      "x": 0.05
                    },
                    "xaxis": {
                      "automargin": true,
                      "gridcolor": "white",
                      "linecolor": "white",
                      "ticks": "",
                      "title": {
                        "standoff": 15
                      },
                      "zerolinecolor": "white",
                      "zerolinewidth": 2
                    },
                    "yaxis": {
                      "automargin": true,
                      "gridcolor": "white",
                      "linecolor": "white",
                      "ticks": "",
                      "title": {
                        "standoff": 15
                      },
                      "zerolinecolor": "white",
                      "zerolinewidth": 2
                    }
                  }
                },
                "width": 600
              }
            }
          },
          "metadata": {},
          "output_type": "display_data"
        }
      ],
      "source": [
        "# Target point cloud\n",
        "mesh_path = o3d.data.BunnyMesh().path  # Updated for newer Open3D versions\n",
        "mesh = o3d.io.read_triangle_mesh(mesh_path)\n",
        "pcd = mesh.sample_points_poisson_disk(750)\n",
        "original_points = np.asarray(pcd.points)\n",
        "\n",
        "# 🌈 Visualize original point cloud\n",
        "original_pcd = pcd\n",
        "original_pcd.paint_uniform_color([0.2, 0.8, 0.2])  # Green\n",
        "o3d.visualization.draw_plotly([original_pcd],\n",
        "                                 window_name=\"Original Bunny\")"
      ]
    },
    {
      "cell_type": "markdown",
      "id": "d62d7dd7",
      "metadata": {
        "id": "d62d7dd7"
      },
      "source": [
        "## 🌀 Create Transformed Point Cloud"
      ]
    },
    {
      "cell_type": "code",
      "execution_count": 3,
      "id": "a6b45435",
      "metadata": {
        "colab": {
          "base_uri": "https://localhost:8080/",
          "height": 417
        },
        "id": "a6b45435",
        "outputId": "b99c79e5-ba53-4811-afbd-ccbdba455e60"
      },
      "outputs": [
        {
          "data": {
            "application/vnd.plotly.v1+json": {
              "config": {
                "plotlyServerURL": "https://plot.ly"
              },
              "data": [
                {
                  "marker": {
                    "color": {
                      "bdata": "mpmZmZmZyT+amZmZmZnpP5qZmZmZmck/mpmZmZmZyT+amZmZmZnpP5qZmZmZmck/mpmZmZmZyT+amZmZmZnpP5qZmZmZmck/mpmZmZmZyT+amZmZmZnpP5qZmZmZmck/mpmZmZmZyT+amZmZmZnpP5qZmZmZmck/mpmZmZmZyT+amZmZmZnpP5qZmZmZmck/mpmZmZmZyT+amZmZmZnpP5qZmZmZmck/mpmZmZmZyT+amZmZmZnpP5qZmZmZmck/mpmZmZmZyT+amZmZmZnpP5qZmZmZmck/mpmZmZmZyT+amZmZmZnpP5qZmZmZmck/mpmZmZmZyT+amZmZmZnpP5qZmZmZmck/mpmZmZmZyT+amZmZmZnpP5qZmZmZmck/mpmZmZmZyT+amZmZmZnpP5qZmZmZmck/mpmZmZmZyT+amZmZmZnpP5qZmZmZmck/mpmZmZmZyT+amZmZmZnpP5qZmZmZmck/mpmZmZmZyT+amZmZmZnpP5qZmZmZmck/mpmZmZmZyT+amZmZmZnpP5qZmZmZmck/mpmZmZmZyT+amZmZmZnpP5qZmZmZmck/mpmZmZmZyT+amZmZmZnpP5qZmZmZmck/mpmZmZmZyT+amZmZmZnpP5qZmZmZmck/mpmZmZmZyT+amZmZmZnpP5qZmZmZmck/mpmZmZmZyT+amZmZmZnpP5qZmZmZmck/mpmZmZmZyT+amZmZmZnpP5qZmZmZmck/mpmZmZmZyT+amZmZmZnpP5qZmZmZmck/mpmZmZmZyT+amZmZmZnpP5qZmZmZmck/mpmZmZmZyT+amZmZmZnpP5qZmZmZmck/mpmZmZmZyT+amZmZmZnpP5qZmZmZmck/mpmZmZmZyT+amZmZmZnpP5qZmZmZmck/mpmZmZmZyT+amZmZmZnpP5qZmZmZmck/mpmZmZmZyT+amZmZmZnpP5qZmZmZmck/mpmZmZmZyT+amZmZmZnpP5qZmZmZmck/mpmZmZmZyT+amZmZmZnpP5qZmZmZmck/mpmZmZmZyT+amZmZmZnpP5qZmZmZmck/mpmZmZmZyT+amZmZmZnpP5qZmZmZmck/mpmZmZmZyT+amZmZmZnpP5qZmZmZmck/mpmZmZmZyT+amZmZmZnpP5qZmZmZmck/mpmZmZmZyT+amZmZmZnpP5qZmZmZmck/mpmZmZmZyT+amZmZmZnpP5qZmZmZmck/mpmZmZmZyT+amZmZmZnpP5qZmZmZmck/mpmZmZmZyT+amZmZmZnpP5qZmZmZmck/mpmZmZmZyT+amZmZmZnpP5qZmZmZmck/mpmZmZmZyT+amZmZmZnpP5qZmZmZmck/mpmZmZmZyT+amZmZmZnpP5qZmZmZmck/mpmZmZmZyT+amZmZmZnpP5qZmZmZmck/mpmZmZmZyT+amZmZmZnpP5qZmZmZmck/mpmZmZmZyT+amZmZmZnpP5qZmZmZmck/mpmZmZmZyT+amZmZmZnpP5qZmZmZmck/mpmZmZmZyT+amZmZmZnpP5qZmZmZmck/mpmZmZmZyT+amZmZmZnpP5qZmZmZmck/mpmZmZmZyT+amZmZmZnpP5qZmZmZmck/mpmZmZmZyT+amZmZmZnpP5qZmZmZmck/mpmZmZmZyT+amZmZmZnpP5qZmZmZmck/mpmZmZmZyT+amZmZmZnpP5qZmZmZmck/mpmZmZmZyT+amZmZmZnpP5qZmZmZmck/mpmZmZmZyT+amZmZmZnpP5qZmZmZmck/mpmZmZmZyT+amZmZmZnpP5qZmZmZmck/mpmZmZmZyT+amZmZmZnpP5qZmZmZmck/mpmZmZmZyT+amZmZmZnpP5qZmZmZmck/mpmZmZmZyT+amZmZmZnpP5qZmZmZmck/mpmZmZmZyT+amZmZmZnpP5qZmZmZmck/mpmZmZmZyT+amZmZmZnpP5qZmZmZmck/mpmZmZmZyT+amZmZmZnpP5qZmZmZmck/mpmZmZmZyT+amZmZmZnpP5qZmZmZmck/mpmZmZmZyT+amZmZmZnpP5qZmZmZmck/mpmZmZmZyT+amZmZmZnpP5qZmZmZmck/mpmZmZmZyT+amZmZmZnpP5qZmZmZmck/mpmZmZmZyT+amZmZmZnpP5qZmZmZmck/mpmZmZmZyT+amZmZmZnpP5qZmZmZmck/mpmZmZmZyT+amZmZmZnpP5qZmZmZmck/mpmZmZmZyT+amZmZmZnpP5qZmZmZmck/mpmZmZmZyT+amZmZmZnpP5qZmZmZmck/mpmZmZmZyT+amZmZmZnpP5qZmZmZmck/mpmZmZmZyT+amZmZmZnpP5qZmZmZmck/mpmZmZmZyT+amZmZmZnpP5qZmZmZmck/mpmZmZmZyT+amZmZmZnpP5qZmZmZmck/mpmZmZmZyT+amZmZmZnpP5qZmZmZmck/mpmZmZmZyT+amZmZmZnpP5qZmZmZmck/mpmZmZmZyT+amZmZmZnpP5qZmZmZmck/mpmZmZmZyT+amZmZmZnpP5qZmZmZmck/mpmZmZmZyT+amZmZmZnpP5qZmZmZmck/mpmZmZmZyT+amZmZmZnpP5qZmZmZmck/mpmZmZmZyT+amZmZmZnpP5qZmZmZmck/mpmZmZmZyT+amZmZmZnpP5qZmZmZmck/mpmZmZmZyT+amZmZmZnpP5qZmZmZmck/mpmZmZmZyT+amZmZmZnpP5qZmZmZmck/mpmZmZmZyT+amZmZmZnpP5qZmZmZmck/mpmZmZmZyT+amZmZmZnpP5qZmZmZmck/mpmZmZmZyT+amZmZmZnpP5qZmZmZmck/mpmZmZmZyT+amZmZmZnpP5qZmZmZmck/mpmZmZmZyT+amZmZmZnpP5qZmZmZmck/mpmZmZmZyT+amZmZmZnpP5qZmZmZmck/mpmZmZmZyT+amZmZmZnpP5qZmZmZmck/mpmZmZmZyT+amZmZmZnpP5qZmZmZmck/mpmZmZmZyT+amZmZmZnpP5qZmZmZmck/mpmZmZmZyT+amZmZmZnpP5qZmZmZmck/mpmZmZmZyT+amZmZmZnpP5qZmZmZmck/mpmZmZmZyT+amZmZmZnpP5qZmZmZmck/mpmZmZmZyT+amZmZmZnpP5qZmZmZmck/mpmZmZmZyT+amZmZmZnpP5qZmZmZmck/mpmZmZmZyT+amZmZmZnpP5qZmZmZmck/mpmZmZmZyT+amZmZmZnpP5qZmZmZmck/mpmZmZmZyT+amZmZmZnpP5qZmZmZmck/mpmZmZmZyT+amZmZmZnpP5qZmZmZmck/mpmZmZmZyT+amZmZmZnpP5qZmZmZmck/mpmZmZmZyT+amZmZmZnpP5qZmZmZmck/mpmZmZmZyT+amZmZmZnpP5qZmZmZmck/mpmZmZmZyT+amZmZmZnpP5qZmZmZmck/mpmZmZmZyT+amZmZmZnpP5qZmZmZmck/mpmZmZmZyT+amZmZmZnpP5qZmZmZmck/mpmZmZmZyT+amZmZmZnpP5qZmZmZmck/mpmZmZmZyT+amZmZmZnpP5qZmZmZmck/mpmZmZmZyT+amZmZmZnpP5qZmZmZmck/mpmZmZmZyT+amZmZmZnpP5qZmZmZmck/mpmZmZmZyT+amZmZmZnpP5qZmZmZmck/mpmZmZmZyT+amZmZmZnpP5qZmZmZmck/mpmZmZmZyT+amZmZmZnpP5qZmZmZmck/mpmZmZmZyT+amZmZmZnpP5qZmZmZmck/mpmZmZmZyT+amZmZmZnpP5qZmZmZmck/mpmZmZmZyT+amZmZmZnpP5qZmZmZmck/mpmZmZmZyT+amZmZmZnpP5qZmZmZmck/mpmZmZmZyT+amZmZmZnpP5qZmZmZmck/mpmZmZmZyT+amZmZmZnpP5qZmZmZmck/mpmZmZmZyT+amZmZmZnpP5qZmZmZmck/mpmZmZmZyT+amZmZmZnpP5qZmZmZmck/mpmZmZmZyT+amZmZmZnpP5qZmZmZmck/mpmZmZmZyT+amZmZmZnpP5qZmZmZmck/mpmZmZmZyT+amZmZmZnpP5qZmZmZmck/mpmZmZmZyT+amZmZmZnpP5qZmZmZmck/mpmZmZmZyT+amZmZmZnpP5qZmZmZmck/mpmZmZmZyT+amZmZmZnpP5qZmZmZmck/mpmZmZmZyT+amZmZmZnpP5qZmZmZmck/mpmZmZmZyT+amZmZmZnpP5qZmZmZmck/mpmZmZmZyT+amZmZmZnpP5qZmZmZmck/mpmZmZmZyT+amZmZmZnpP5qZmZmZmck/mpmZmZmZyT+amZmZmZnpP5qZmZmZmck/mpmZmZmZyT+amZmZmZnpP5qZmZmZmck/mpmZmZmZyT+amZmZmZnpP5qZmZmZmck/mpmZmZmZyT+amZmZmZnpP5qZmZmZmck/mpmZmZmZyT+amZmZmZnpP5qZmZmZmck/mpmZmZmZyT+amZmZmZnpP5qZmZmZmck/mpmZmZmZyT+amZmZmZnpP5qZmZmZmck/mpmZmZmZyT+amZmZmZnpP5qZmZmZmck/mpmZmZmZyT+amZmZmZnpP5qZmZmZmck/mpmZmZmZyT+amZmZmZnpP5qZmZmZmck/mpmZmZmZyT+amZmZmZnpP5qZmZmZmck/mpmZmZmZyT+amZmZmZnpP5qZmZmZmck/mpmZmZmZyT+amZmZmZnpP5qZmZmZmck/mpmZmZmZyT+amZmZmZnpP5qZmZmZmck/mpmZmZmZyT+amZmZmZnpP5qZmZmZmck/mpmZmZmZyT+amZmZmZnpP5qZmZmZmck/mpmZmZmZyT+amZmZmZnpP5qZmZmZmck/mpmZmZmZyT+amZmZmZnpP5qZmZmZmck/mpmZmZmZyT+amZmZmZnpP5qZmZmZmck/mpmZmZmZyT+amZmZmZnpP5qZmZmZmck/mpmZmZmZyT+amZmZmZnpP5qZmZmZmck/mpmZmZmZyT+amZmZmZnpP5qZmZmZmck/mpmZmZmZyT+amZmZmZnpP5qZmZmZmck/mpmZmZmZyT+amZmZmZnpP5qZmZmZmck/mpmZmZmZyT+amZmZmZnpP5qZmZmZmck/mpmZmZmZyT+amZmZmZnpP5qZmZmZmck/mpmZmZmZyT+amZmZmZnpP5qZmZmZmck/mpmZmZmZyT+amZmZmZnpP5qZmZmZmck/mpmZmZmZyT+amZmZmZnpP5qZmZmZmck/mpmZmZmZyT+amZmZmZnpP5qZmZmZmck/mpmZmZmZyT+amZmZmZnpP5qZmZmZmck/mpmZmZmZyT+amZmZmZnpP5qZmZmZmck/mpmZmZmZyT+amZmZmZnpP5qZmZmZmck/mpmZmZmZyT+amZmZmZnpP5qZmZmZmck/mpmZmZmZyT+amZmZmZnpP5qZmZmZmck/mpmZmZmZyT+amZmZmZnpP5qZmZmZmck/mpmZmZmZyT+amZmZmZnpP5qZmZmZmck/mpmZmZmZyT+amZmZmZnpP5qZmZmZmck/mpmZmZmZyT+amZmZmZnpP5qZmZmZmck/mpmZmZmZyT+amZmZmZnpP5qZmZmZmck/mpmZmZmZyT+amZmZmZnpP5qZmZmZmck/mpmZmZmZyT+amZmZmZnpP5qZmZmZmck/mpmZmZmZyT+amZmZmZnpP5qZmZmZmck/mpmZmZmZyT+amZmZmZnpP5qZmZmZmck/mpmZmZmZyT+amZmZmZnpP5qZmZmZmck/mpmZmZmZyT+amZmZmZnpP5qZmZmZmck/mpmZmZmZyT+amZmZmZnpP5qZmZmZmck/mpmZmZmZyT+amZmZmZnpP5qZmZmZmck/mpmZmZmZyT+amZmZmZnpP5qZmZmZmck/mpmZmZmZyT+amZmZmZnpP5qZmZmZmck/mpmZmZmZyT+amZmZmZnpP5qZmZmZmck/mpmZmZmZyT+amZmZmZnpP5qZmZmZmck/mpmZmZmZyT+amZmZmZnpP5qZmZmZmck/mpmZmZmZyT+amZmZmZnpP5qZmZmZmck/mpmZmZmZyT+amZmZmZnpP5qZmZmZmck/mpmZmZmZyT+amZmZmZnpP5qZmZmZmck/mpmZmZmZyT+amZmZmZnpP5qZmZmZmck/mpmZmZmZyT+amZmZmZnpP5qZmZmZmck/mpmZmZmZyT+amZmZmZnpP5qZmZmZmck/mpmZmZmZyT+amZmZmZnpP5qZmZmZmck/mpmZmZmZyT+amZmZmZnpP5qZmZmZmck/mpmZmZmZyT+amZmZmZnpP5qZmZmZmck/mpmZmZmZyT+amZmZmZnpP5qZmZmZmck/mpmZmZmZyT+amZmZmZnpP5qZmZmZmck/mpmZmZmZyT+amZmZmZnpP5qZmZmZmck/mpmZmZmZyT+amZmZmZnpP5qZmZmZmck/mpmZmZmZyT+amZmZmZnpP5qZmZmZmck/mpmZmZmZyT+amZmZmZnpP5qZmZmZmck/mpmZmZmZyT+amZmZmZnpP5qZmZmZmck/mpmZmZmZyT+amZmZmZnpP5qZmZmZmck/mpmZmZmZyT+amZmZmZnpP5qZmZmZmck/mpmZmZmZyT+amZmZmZnpP5qZmZmZmck/mpmZmZmZyT+amZmZmZnpP5qZmZmZmck/mpmZmZmZyT+amZmZmZnpP5qZmZmZmck/mpmZmZmZyT+amZmZmZnpP5qZmZmZmck/mpmZmZmZyT+amZmZmZnpP5qZmZmZmck/mpmZmZmZyT+amZmZmZnpP5qZmZmZmck/mpmZmZmZyT+amZmZmZnpP5qZmZmZmck/mpmZmZmZyT+amZmZmZnpP5qZmZmZmck/mpmZmZmZyT+amZmZmZnpP5qZmZmZmck/mpmZmZmZyT+amZmZmZnpP5qZmZmZmck/mpmZmZmZyT+amZmZmZnpP5qZmZmZmck/mpmZmZmZyT+amZmZmZnpP5qZmZmZmck/mpmZmZmZyT+amZmZmZnpP5qZmZmZmck/mpmZmZmZyT+amZmZmZnpP5qZmZmZmck/mpmZmZmZyT+amZmZmZnpP5qZmZmZmck/mpmZmZmZyT+amZmZmZnpP5qZmZmZmck/mpmZmZmZyT+amZmZmZnpP5qZmZmZmck/mpmZmZmZyT+amZmZmZnpP5qZmZmZmck/mpmZmZmZyT+amZmZmZnpP5qZmZmZmck/mpmZmZmZyT+amZmZmZnpP5qZmZmZmck/mpmZmZmZyT+amZmZmZnpP5qZmZmZmck/mpmZmZmZyT+amZmZmZnpP5qZmZmZmck/mpmZmZmZyT+amZmZmZnpP5qZmZmZmck/mpmZmZmZyT+amZmZmZnpP5qZmZmZmck/mpmZmZmZyT+amZmZmZnpP5qZmZmZmck/mpmZmZmZyT+amZmZmZnpP5qZmZmZmck/mpmZmZmZyT+amZmZmZnpP5qZmZmZmck/mpmZmZmZyT+amZmZmZnpP5qZmZmZmck/mpmZmZmZyT+amZmZmZnpP5qZmZmZmck/mpmZmZmZyT+amZmZmZnpP5qZmZmZmck/mpmZmZmZyT+amZmZmZnpP5qZmZmZmck/mpmZmZmZyT+amZmZmZnpP5qZmZmZmck/mpmZmZmZyT+amZmZmZnpP5qZmZmZmck/mpmZmZmZyT+amZmZmZnpP5qZmZmZmck/mpmZmZmZyT+amZmZmZnpP5qZmZmZmck/mpmZmZmZyT+amZmZmZnpP5qZmZmZmck/mpmZmZmZyT+amZmZmZnpP5qZmZmZmck/mpmZmZmZyT+amZmZmZnpP5qZmZmZmck/mpmZmZmZyT+amZmZmZnpP5qZmZmZmck/mpmZmZmZyT+amZmZmZnpP5qZmZmZmck/mpmZmZmZyT+amZmZmZnpP5qZmZmZmck/mpmZmZmZyT+amZmZmZnpP5qZmZmZmck/mpmZmZmZyT+amZmZmZnpP5qZmZmZmck/mpmZmZmZyT+amZmZmZnpP5qZmZmZmck/mpmZmZmZyT+amZmZmZnpP5qZmZmZmck/mpmZmZmZyT+amZmZmZnpP5qZmZmZmck/mpmZmZmZyT+amZmZmZnpP5qZmZmZmck/mpmZmZmZyT+amZmZmZnpP5qZmZmZmck/mpmZmZmZyT+amZmZmZnpP5qZmZmZmck/mpmZmZmZyT+amZmZmZnpP5qZmZmZmck/mpmZmZmZyT+amZmZmZnpP5qZmZmZmck/mpmZmZmZyT+amZmZmZnpP5qZmZmZmck/mpmZmZmZyT+amZmZmZnpP5qZmZmZmck/mpmZmZmZyT+amZmZmZnpP5qZmZmZmck/mpmZmZmZyT+amZmZmZnpP5qZmZmZmck/mpmZmZmZyT+amZmZmZnpP5qZmZmZmck/mpmZmZmZyT+amZmZmZnpP5qZmZmZmck/mpmZmZmZyT+amZmZmZnpP5qZmZmZmck/mpmZmZmZyT+amZmZmZnpP5qZmZmZmck/mpmZmZmZyT+amZmZmZnpP5qZmZmZmck/mpmZmZmZyT+amZmZmZnpP5qZmZmZmck/mpmZmZmZyT+amZmZmZnpP5qZmZmZmck/mpmZmZmZyT+amZmZmZnpP5qZmZmZmck/mpmZmZmZyT+amZmZmZnpP5qZmZmZmck/mpmZmZmZyT+amZmZmZnpP5qZmZmZmck/mpmZmZmZyT+amZmZmZnpP5qZmZmZmck/mpmZmZmZyT+amZmZmZnpP5qZmZmZmck/mpmZmZmZyT+amZmZmZnpP5qZmZmZmck/mpmZmZmZyT+amZmZmZnpP5qZmZmZmck/mpmZmZmZyT+amZmZmZnpP5qZmZmZmck/mpmZmZmZyT+amZmZmZnpP5qZmZmZmck/mpmZmZmZyT+amZmZmZnpP5qZmZmZmck/mpmZmZmZyT+amZmZmZnpP5qZmZmZmck/mpmZmZmZyT+amZmZmZnpP5qZmZmZmck/mpmZmZmZyT+amZmZmZnpP5qZmZmZmck/mpmZmZmZyT+amZmZmZnpP5qZmZmZmck/mpmZmZmZyT+amZmZmZnpP5qZmZmZmck/mpmZmZmZyT+amZmZmZnpP5qZmZmZmck/mpmZmZmZyT+amZmZmZnpP5qZmZmZmck/mpmZmZmZyT+amZmZmZnpP5qZmZmZmck/mpmZmZmZyT+amZmZmZnpP5qZmZmZmck/mpmZmZmZyT+amZmZmZnpP5qZmZmZmck/mpmZmZmZyT+amZmZmZnpP5qZmZmZmck/mpmZmZmZyT+amZmZmZnpP5qZmZmZmck/mpmZmZmZyT+amZmZmZnpP5qZmZmZmck/mpmZmZmZyT+amZmZmZnpP5qZmZmZmck/mpmZmZmZyT+amZmZmZnpP5qZmZmZmck/mpmZmZmZyT+amZmZmZnpP5qZmZmZmck/mpmZmZmZyT+amZmZmZnpP5qZmZmZmck/mpmZmZmZyT+amZmZmZnpP5qZmZmZmck/mpmZmZmZyT+amZmZmZnpP5qZmZmZmck/mpmZmZmZyT+amZmZmZnpP5qZmZmZmck/mpmZmZmZyT+amZmZmZnpP5qZmZmZmck/mpmZmZmZyT+amZmZmZnpP5qZmZmZmck/mpmZmZmZyT+amZmZmZnpP5qZmZmZmck/mpmZmZmZyT+amZmZmZnpP5qZmZmZmck/mpmZmZmZyT+amZmZmZnpP5qZmZmZmck/mpmZmZmZyT+amZmZmZnpP5qZmZmZmck/mpmZmZmZyT+amZmZmZnpP5qZmZmZmck/mpmZmZmZyT+amZmZmZnpP5qZmZmZmck/mpmZmZmZyT+amZmZmZnpP5qZmZmZmck/mpmZmZmZyT+amZmZmZnpP5qZmZmZmck/mpmZmZmZyT+amZmZmZnpP5qZmZmZmck/mpmZmZmZyT+amZmZmZnpP5qZmZmZmck/mpmZmZmZyT+amZmZmZnpP5qZmZmZmck/mpmZmZmZyT+amZmZmZnpP5qZmZmZmck/mpmZmZmZyT+amZmZmZnpP5qZmZmZmck/mpmZmZmZyT+amZmZmZnpP5qZmZmZmck/mpmZmZmZyT+amZmZmZnpP5qZmZmZmck/mpmZmZmZyT+amZmZmZnpP5qZmZmZmck/mpmZmZmZyT+amZmZmZnpP5qZmZmZmck/mpmZmZmZyT+amZmZmZnpP5qZmZmZmck/mpmZmZmZyT+amZmZmZnpP5qZmZmZmck/mpmZmZmZyT+amZmZmZnpP5qZmZmZmck/mpmZmZmZyT+amZmZmZnpP5qZmZmZmck/mpmZmZmZyT+amZmZmZnpP5qZmZmZmck/mpmZmZmZyT+amZmZmZnpP5qZmZmZmck/mpmZmZmZyT+amZmZmZnpP5qZmZmZmck/mpmZmZmZyT+amZmZmZnpP5qZmZmZmck/mpmZmZmZyT+amZmZmZnpP5qZmZmZmck/mpmZmZmZyT+amZmZmZnpP5qZmZmZmck/mpmZmZmZyT+amZmZmZnpP5qZmZmZmck/mpmZmZmZyT+amZmZmZnpP5qZmZmZmck/mpmZmZmZyT+amZmZmZnpP5qZmZmZmck/mpmZmZmZyT+amZmZmZnpP5qZmZmZmck/mpmZmZmZyT+amZmZmZnpP5qZmZmZmck/mpmZmZmZyT+amZmZmZnpP5qZmZmZmck/mpmZmZmZyT+amZmZmZnpP5qZmZmZmck/mpmZmZmZyT+amZmZmZnpP5qZmZmZmck/mpmZmZmZyT+amZmZmZnpP5qZmZmZmck/mpmZmZmZyT+amZmZmZnpP5qZmZmZmck/mpmZmZmZyT+amZmZmZnpP5qZmZmZmck/mpmZmZmZyT+amZmZmZnpP5qZmZmZmck/mpmZmZmZyT+amZmZmZnpP5qZmZmZmck/mpmZmZmZyT+amZmZmZnpP5qZmZmZmck/mpmZmZmZyT+amZmZmZnpP5qZmZmZmck/mpmZmZmZyT+amZmZmZnpP5qZmZmZmck/mpmZmZmZyT+amZmZmZnpP5qZmZmZmck/mpmZmZmZyT+amZmZmZnpP5qZmZmZmck/mpmZmZmZyT+amZmZmZnpP5qZmZmZmck/mpmZmZmZyT+amZmZmZnpP5qZmZmZmck/mpmZmZmZyT+amZmZmZnpP5qZmZmZmck/mpmZmZmZyT+amZmZmZnpP5qZmZmZmck/mpmZmZmZyT+amZmZmZnpP5qZmZmZmck/mpmZmZmZyT+amZmZmZnpP5qZmZmZmck/mpmZmZmZyT+amZmZmZnpP5qZmZmZmck/mpmZmZmZyT+amZmZmZnpP5qZmZmZmck/mpmZmZmZyT+amZmZmZnpP5qZmZmZmck/mpmZmZmZyT+amZmZmZnpP5qZmZmZmck/mpmZmZmZyT+amZmZmZnpP5qZmZmZmck/mpmZmZmZyT+amZmZmZnpP5qZmZmZmck/mpmZmZmZyT+amZmZmZnpP5qZmZmZmck/mpmZmZmZyT+amZmZmZnpP5qZmZmZmck/mpmZmZmZyT+amZmZmZnpP5qZmZmZmck/mpmZmZmZyT+amZmZmZnpP5qZmZmZmck/mpmZmZmZyT+amZmZmZnpP5qZmZmZmck/mpmZmZmZyT+amZmZmZnpP5qZmZmZmck/mpmZmZmZyT+amZmZmZnpP5qZmZmZmck/mpmZmZmZyT+amZmZmZnpP5qZmZmZmck/mpmZmZmZyT+amZmZmZnpP5qZmZmZmck/mpmZmZmZyT+amZmZmZnpP5qZmZmZmck/mpmZmZmZyT+amZmZmZnpP5qZmZmZmck/mpmZmZmZyT+amZmZmZnpP5qZmZmZmck/mpmZmZmZyT+amZmZmZnpP5qZmZmZmck/mpmZmZmZyT+amZmZmZnpP5qZmZmZmck/mpmZmZmZyT+amZmZmZnpP5qZmZmZmck/mpmZmZmZyT+amZmZmZnpP5qZmZmZmck/mpmZmZmZyT+amZmZmZnpP5qZmZmZmck/mpmZmZmZyT+amZmZmZnpP5qZmZmZmck/mpmZmZmZyT+amZmZmZnpP5qZmZmZmck/mpmZmZmZyT+amZmZmZnpP5qZmZmZmck/mpmZmZmZyT+amZmZmZnpP5qZmZmZmck/mpmZmZmZyT+amZmZmZnpP5qZmZmZmck/mpmZmZmZyT+amZmZmZnpP5qZmZmZmck/mpmZmZmZyT+amZmZmZnpP5qZmZmZmck/mpmZmZmZyT+amZmZmZnpP5qZmZmZmck/mpmZmZmZyT+amZmZmZnpP5qZmZmZmck/mpmZmZmZyT+amZmZmZnpP5qZmZmZmck/mpmZmZmZyT+amZmZmZnpP5qZmZmZmck/mpmZmZmZyT+amZmZmZnpP5qZmZmZmck/mpmZmZmZyT+amZmZmZnpP5qZmZmZmck/mpmZmZmZyT+amZmZmZnpP5qZmZmZmck/mpmZmZmZyT+amZmZmZnpP5qZmZmZmck/mpmZmZmZyT+amZmZmZnpP5qZmZmZmck/mpmZmZmZyT+amZmZmZnpP5qZmZmZmck/mpmZmZmZyT+amZmZmZnpP5qZmZmZmck/mpmZmZmZyT+amZmZmZnpP5qZmZmZmck/mpmZmZmZyT+amZmZmZnpP5qZmZmZmck/mpmZmZmZyT+amZmZmZnpP5qZmZmZmck/mpmZmZmZyT+amZmZmZnpP5qZmZmZmck/mpmZmZmZyT+amZmZmZnpP5qZmZmZmck/mpmZmZmZyT+amZmZmZnpP5qZmZmZmck/mpmZmZmZyT+amZmZmZnpP5qZmZmZmck/mpmZmZmZyT+amZmZmZnpP5qZmZmZmck/mpmZmZmZyT+amZmZmZnpP5qZmZmZmck/mpmZmZmZyT+amZmZmZnpP5qZmZmZmck/mpmZmZmZyT+amZmZmZnpP5qZmZmZmck/mpmZmZmZyT+amZmZmZnpP5qZmZmZmck/mpmZmZmZyT+amZmZmZnpP5qZmZmZmck/mpmZmZmZyT+amZmZmZnpP5qZmZmZmck/mpmZmZmZyT+amZmZmZnpP5qZmZmZmck/mpmZmZmZyT+amZmZmZnpP5qZmZmZmck/mpmZmZmZyT+amZmZmZnpP5qZmZmZmck/mpmZmZmZyT+amZmZmZnpP5qZmZmZmck/mpmZmZmZyT+amZmZmZnpP5qZmZmZmck/mpmZmZmZyT+amZmZmZnpP5qZmZmZmck/mpmZmZmZyT+amZmZmZnpP5qZmZmZmck/mpmZmZmZyT+amZmZmZnpP5qZmZmZmck/mpmZmZmZyT+amZmZmZnpP5qZmZmZmck/mpmZmZmZyT+amZmZmZnpP5qZmZmZmck/mpmZmZmZyT+amZmZmZnpP5qZmZmZmck/mpmZmZmZyT+amZmZmZnpP5qZmZmZmck/mpmZmZmZyT+amZmZmZnpP5qZmZmZmck/mpmZmZmZyT+amZmZmZnpP5qZmZmZmck/mpmZmZmZyT+amZmZmZnpP5qZmZmZmck/mpmZmZmZyT+amZmZmZnpP5qZmZmZmck/mpmZmZmZyT+amZmZmZnpP5qZmZmZmck/mpmZmZmZyT+amZmZmZnpP5qZmZmZmck/mpmZmZmZyT+amZmZmZnpP5qZmZmZmck/mpmZmZmZyT+amZmZmZnpP5qZmZmZmck/mpmZmZmZyT+amZmZmZnpP5qZmZmZmck/mpmZmZmZyT+amZmZmZnpP5qZmZmZmck/mpmZmZmZyT+amZmZmZnpP5qZmZmZmck/mpmZmZmZyT+amZmZmZnpP5qZmZmZmck/mpmZmZmZyT+amZmZmZnpP5qZmZmZmck/mpmZmZmZyT+amZmZmZnpP5qZmZmZmck/mpmZmZmZyT+amZmZmZnpP5qZmZmZmck/mpmZmZmZyT+amZmZmZnpP5qZmZmZmck/mpmZmZmZyT+amZmZmZnpP5qZmZmZmck/mpmZmZmZyT+amZmZmZnpP5qZmZmZmck/mpmZmZmZyT+amZmZmZnpP5qZmZmZmck/mpmZmZmZyT+amZmZmZnpP5qZmZmZmck/mpmZmZmZyT+amZmZmZnpP5qZmZmZmck/mpmZmZmZyT+amZmZmZnpP5qZmZmZmck/mpmZmZmZyT+amZmZmZnpP5qZmZmZmck/mpmZmZmZyT+amZmZmZnpP5qZmZmZmck/mpmZmZmZyT+amZmZmZnpP5qZmZmZmck/mpmZmZmZyT+amZmZmZnpP5qZmZmZmck/mpmZmZmZyT+amZmZmZnpP5qZmZmZmck/mpmZmZmZyT+amZmZmZnpP5qZmZmZmck/mpmZmZmZyT+amZmZmZnpP5qZmZmZmck/mpmZmZmZyT+amZmZmZnpP5qZmZmZmck/mpmZmZmZyT+amZmZmZnpP5qZmZmZmck/mpmZmZmZyT+amZmZmZnpP5qZmZmZmck/mpmZmZmZyT+amZmZmZnpP5qZmZmZmck/mpmZmZmZyT+amZmZmZnpP5qZmZmZmck/mpmZmZmZyT+amZmZmZnpP5qZmZmZmck/mpmZmZmZyT+amZmZmZnpP5qZmZmZmck/mpmZmZmZyT+amZmZmZnpP5qZmZmZmck/mpmZmZmZyT+amZmZmZnpP5qZmZmZmck/mpmZmZmZyT+amZmZmZnpP5qZmZmZmck/mpmZmZmZyT+amZmZmZnpP5qZmZmZmck/mpmZmZmZyT+amZmZmZnpP5qZmZmZmck/mpmZmZmZyT+amZmZmZnpP5qZmZmZmck/mpmZmZmZyT+amZmZmZnpP5qZmZmZmck/mpmZmZmZyT+amZmZmZnpP5qZmZmZmck/mpmZmZmZyT+amZmZmZnpP5qZmZmZmck/mpmZmZmZyT+amZmZmZnpP5qZmZmZmck/mpmZmZmZyT+amZmZmZnpP5qZmZmZmck/mpmZmZmZyT+amZmZmZnpP5qZmZmZmck/mpmZmZmZyT+amZmZmZnpP5qZmZmZmck/mpmZmZmZyT+amZmZmZnpP5qZmZmZmck/mpmZmZmZyT+amZmZmZnpP5qZmZmZmck/mpmZmZmZyT+amZmZmZnpP5qZmZmZmck/mpmZmZmZyT+amZmZmZnpP5qZmZmZmck/mpmZmZmZyT+amZmZmZnpP5qZmZmZmck/mpmZmZmZyT+amZmZmZnpP5qZmZmZmck/mpmZmZmZyT+amZmZmZnpP5qZmZmZmck/mpmZmZmZyT+amZmZmZnpP5qZmZmZmck/mpmZmZmZyT+amZmZmZnpP5qZmZmZmck/mpmZmZmZyT+amZmZmZnpP5qZmZmZmck/mpmZmZmZyT+amZmZmZnpP5qZmZmZmck/mpmZmZmZyT+amZmZmZnpP5qZmZmZmck/mpmZmZmZyT+amZmZmZnpP5qZmZmZmck/mpmZmZmZyT+amZmZmZnpP5qZmZmZmck/mpmZmZmZyT+amZmZmZnpP5qZmZmZmck/mpmZmZmZyT+amZmZmZnpP5qZmZmZmck/mpmZmZmZyT+amZmZmZnpP5qZmZmZmck/mpmZmZmZyT+amZmZmZnpP5qZmZmZmck/mpmZmZmZyT+amZmZmZnpP5qZmZmZmck/mpmZmZmZyT+amZmZmZnpP5qZmZmZmck/mpmZmZmZyT+amZmZmZnpP5qZmZmZmck/mpmZmZmZyT+amZmZmZnpP5qZmZmZmck/mpmZmZmZyT+amZmZmZnpP5qZmZmZmck/mpmZmZmZyT+amZmZmZnpP5qZmZmZmck/mpmZmZmZyT+amZmZmZnpP5qZmZmZmck/mpmZmZmZyT+amZmZmZnpP5qZmZmZmck/mpmZmZmZyT+amZmZmZnpP5qZmZmZmck/mpmZmZmZyT+amZmZmZnpP5qZmZmZmck/mpmZmZmZyT+amZmZmZnpP5qZmZmZmck/mpmZmZmZyT+amZmZmZnpP5qZmZmZmck/mpmZmZmZyT+amZmZmZnpP5qZmZmZmck/mpmZmZmZyT+amZmZmZnpP5qZmZmZmck/mpmZmZmZyT+amZmZmZnpP5qZmZmZmck/mpmZmZmZyT+amZmZmZnpP5qZmZmZmck/mpmZmZmZyT+amZmZmZnpP5qZmZmZmck/mpmZmZmZyT+amZmZmZnpP5qZmZmZmck/mpmZmZmZyT+amZmZmZnpP5qZmZmZmck/mpmZmZmZyT+amZmZmZnpP5qZmZmZmck/mpmZmZmZyT+amZmZmZnpP5qZmZmZmck/mpmZmZmZyT+amZmZmZnpP5qZmZmZmck/mpmZmZmZyT+amZmZmZnpP5qZmZmZmck/mpmZmZmZyT+amZmZmZnpP5qZmZmZmck/mpmZmZmZyT+amZmZmZnpP5qZmZmZmck/mpmZmZmZyT+amZmZmZnpP5qZmZmZmck/mpmZmZmZyT+amZmZmZnpP5qZmZmZmck/mpmZmZmZyT+amZmZmZnpP5qZmZmZmck/mpmZmZmZyT+amZmZmZnpP5qZmZmZmck/mpmZmZmZyT+amZmZmZnpP5qZmZmZmck/mpmZmZmZyT+amZmZmZnpP5qZmZmZmck/mpmZmZmZyT+amZmZmZnpP5qZmZmZmck/mpmZmZmZyT+amZmZmZnpP5qZmZmZmck/mpmZmZmZyT+amZmZmZnpP5qZmZmZmck/mpmZmZmZyT+amZmZmZnpP5qZmZmZmck/mpmZmZmZyT+amZmZmZnpP5qZmZmZmck/mpmZmZmZyT+amZmZmZnpP5qZmZmZmck/mpmZmZmZyT+amZmZmZnpP5qZmZmZmck/mpmZmZmZyT+amZmZmZnpP5qZmZmZmck/mpmZmZmZyT+amZmZmZnpP5qZmZmZmck/mpmZmZmZyT+amZmZmZnpP5qZmZmZmck/mpmZmZmZyT+amZmZmZnpP5qZmZmZmck/mpmZmZmZyT+amZmZmZnpP5qZmZmZmck/mpmZmZmZyT+amZmZmZnpP5qZmZmZmck/mpmZmZmZyT+amZmZmZnpP5qZmZmZmck/mpmZmZmZyT+amZmZmZnpP5qZmZmZmck/mpmZmZmZyT+amZmZmZnpP5qZmZmZmck/mpmZmZmZyT+amZmZmZnpP5qZmZmZmck/mpmZmZmZyT+amZmZmZnpP5qZmZmZmck/mpmZmZmZyT+amZmZmZnpP5qZmZmZmck/mpmZmZmZyT+amZmZmZnpP5qZmZmZmck/mpmZmZmZyT+amZmZmZnpP5qZmZmZmck/mpmZmZmZyT+amZmZmZnpP5qZmZmZmck/mpmZmZmZyT+amZmZmZnpP5qZmZmZmck/mpmZmZmZyT+amZmZmZnpP5qZmZmZmck/mpmZmZmZyT+amZmZmZnpP5qZmZmZmck/mpmZmZmZyT+amZmZmZnpP5qZmZmZmck/mpmZmZmZyT+amZmZmZnpP5qZmZmZmck/mpmZmZmZyT+amZmZmZnpP5qZmZmZmck/mpmZmZmZyT+amZmZmZnpP5qZmZmZmck/mpmZmZmZyT+amZmZmZnpP5qZmZmZmck/mpmZmZmZyT+amZmZmZnpP5qZmZmZmck/mpmZmZmZyT+amZmZmZnpP5qZmZmZmck/mpmZmZmZyT+amZmZmZnpP5qZmZmZmck/mpmZmZmZyT+amZmZmZnpP5qZmZmZmck/mpmZmZmZyT+amZmZmZnpP5qZmZmZmck/mpmZmZmZyT+amZmZmZnpP5qZmZmZmck/mpmZmZmZyT+amZmZmZnpP5qZmZmZmck/mpmZmZmZyT+amZmZmZnpP5qZmZmZmck/mpmZmZmZyT+amZmZmZnpP5qZmZmZmck/mpmZmZmZyT+amZmZmZnpP5qZmZmZmck/mpmZmZmZyT+amZmZmZnpP5qZmZmZmck/mpmZmZmZyT+amZmZmZnpP5qZmZmZmck/mpmZmZmZyT+amZmZmZnpP5qZmZmZmck/mpmZmZmZyT+amZmZmZnpP5qZmZmZmck/mpmZmZmZyT+amZmZmZnpP5qZmZmZmck/mpmZmZmZyT+amZmZmZnpP5qZmZmZmck/mpmZmZmZyT+amZmZmZnpP5qZmZmZmck/mpmZmZmZyT+amZmZmZnpP5qZmZmZmck/mpmZmZmZyT+amZmZmZnpP5qZmZmZmck/mpmZmZmZyT+amZmZmZnpP5qZmZmZmck/mpmZmZmZyT+amZmZmZnpP5qZmZmZmck/mpmZmZmZyT+amZmZmZnpP5qZmZmZmck/mpmZmZmZyT+amZmZmZnpP5qZmZmZmck/mpmZmZmZyT+amZmZmZnpP5qZmZmZmck/mpmZmZmZyT+amZmZmZnpP5qZmZmZmck/mpmZmZmZyT+amZmZmZnpP5qZmZmZmck/mpmZmZmZyT+amZmZmZnpP5qZmZmZmck/mpmZmZmZyT+amZmZmZnpP5qZmZmZmck/mpmZmZmZyT+amZmZmZnpP5qZmZmZmck/mpmZmZmZyT+amZmZmZnpP5qZmZmZmck/mpmZmZmZyT+amZmZmZnpP5qZmZmZmck/mpmZmZmZyT+amZmZmZnpP5qZmZmZmck/mpmZmZmZyT+amZmZmZnpP5qZmZmZmck/mpmZmZmZyT+amZmZmZnpP5qZmZmZmck/mpmZmZmZyT+amZmZmZnpP5qZmZmZmck/mpmZmZmZyT+amZmZmZnpP5qZmZmZmck/mpmZmZmZyT+amZmZmZnpP5qZmZmZmck/mpmZmZmZyT+amZmZmZnpP5qZmZmZmck/mpmZmZmZyT+amZmZmZnpP5qZmZmZmck/mpmZmZmZyT+amZmZmZnpP5qZmZmZmck/mpmZmZmZyT+amZmZmZnpP5qZmZmZmck/mpmZmZmZyT+amZmZmZnpP5qZmZmZmck/mpmZmZmZyT+amZmZmZnpP5qZmZmZmck/mpmZmZmZyT+amZmZmZnpP5qZmZmZmck/mpmZmZmZyT+amZmZmZnpP5qZmZmZmck/mpmZmZmZyT+amZmZmZnpP5qZmZmZmck/mpmZmZmZyT+amZmZmZnpP5qZmZmZmck/mpmZmZmZyT+amZmZmZnpP5qZmZmZmck/mpmZmZmZyT+amZmZmZnpP5qZmZmZmck/mpmZmZmZyT+amZmZmZnpP5qZmZmZmck/mpmZmZmZyT+amZmZmZnpP5qZmZmZmck/mpmZmZmZyT+amZmZmZnpP5qZmZmZmck/mpmZmZmZyT+amZmZmZnpP5qZmZmZmck/mpmZmZmZyT+amZmZmZnpP5qZmZmZmck/mpmZmZmZyT+amZmZmZnpP5qZmZmZmck/mpmZmZmZyT+amZmZmZnpP5qZmZmZmck/mpmZmZmZyT+amZmZmZnpP5qZmZmZmck/mpmZmZmZyT+amZmZmZnpP5qZmZmZmck/mpmZmZmZyT+amZmZmZnpP5qZmZmZmck/mpmZmZmZyT+amZmZmZnpP5qZmZmZmck/mpmZmZmZyT+amZmZmZnpP5qZmZmZmck/mpmZmZmZyT+amZmZmZnpP5qZmZmZmck/mpmZmZmZyT+amZmZmZnpP5qZmZmZmck/mpmZmZmZyT+amZmZmZnpP5qZmZmZmck/mpmZmZmZyT+amZmZmZnpP5qZmZmZmck/mpmZmZmZyT+amZmZmZnpP5qZmZmZmck/mpmZmZmZyT+amZmZmZnpP5qZmZmZmck/mpmZmZmZyT+amZmZmZnpP5qZmZmZmck/mpmZmZmZyT+amZmZmZnpP5qZmZmZmck/mpmZmZmZyT+amZmZmZnpP5qZmZmZmck/mpmZmZmZyT+amZmZmZnpP5qZmZmZmck/mpmZmZmZyT+amZmZmZnpP5qZmZmZmck/mpmZmZmZyT+amZmZmZnpP5qZmZmZmck/mpmZmZmZyT+amZmZmZnpP5qZmZmZmck/mpmZmZmZyT+amZmZmZnpP5qZmZmZmck/mpmZmZmZyT+amZmZmZnpP5qZmZmZmck/mpmZmZmZyT+amZmZmZnpP5qZmZmZmck/mpmZmZmZyT+amZmZmZnpP5qZmZmZmck/mpmZmZmZyT+amZmZmZnpP5qZmZmZmck/mpmZmZmZyT+amZmZmZnpP5qZmZmZmck/mpmZmZmZyT+amZmZmZnpP5qZmZmZmck/mpmZmZmZyT+amZmZmZnpP5qZmZmZmck/mpmZmZmZyT+amZmZmZnpP5qZmZmZmck/mpmZmZmZyT+amZmZmZnpP5qZmZmZmck/mpmZmZmZyT+amZmZmZnpP5qZmZmZmck/mpmZmZmZyT+amZmZmZnpP5qZmZmZmck/mpmZmZmZyT+amZmZmZnpP5qZmZmZmck/mpmZmZmZyT+amZmZmZnpP5qZmZmZmck/mpmZmZmZyT+amZmZmZnpP5qZmZmZmck/mpmZmZmZyT+amZmZmZnpP5qZmZmZmck/mpmZmZmZyT+amZmZmZnpP5qZmZmZmck/mpmZmZmZyT+amZmZmZnpP5qZmZmZmck/mpmZmZmZyT+amZmZmZnpP5qZmZmZmck/mpmZmZmZyT+amZmZmZnpP5qZmZmZmck/mpmZmZmZyT+amZmZmZnpP5qZmZmZmck/mpmZmZmZyT+amZmZmZnpP5qZmZmZmck/mpmZmZmZyT+amZmZmZnpP5qZmZmZmck/mpmZmZmZyT+amZmZmZnpP5qZmZmZmck/mpmZmZmZyT+amZmZmZnpP5qZmZmZmck/mpmZmZmZyT+amZmZmZnpP5qZmZmZmck/mpmZmZmZyT+amZmZmZnpP5qZmZmZmck/mpmZmZmZyT+amZmZmZnpP5qZmZmZmck/mpmZmZmZyT+amZmZmZnpP5qZmZmZmck/mpmZmZmZyT+amZmZmZnpP5qZmZmZmck/mpmZmZmZyT+amZmZmZnpP5qZmZmZmck/mpmZmZmZyT+amZmZmZnpP5qZmZmZmck/mpmZmZmZyT+amZmZmZnpP5qZmZmZmck/mpmZmZmZyT+amZmZmZnpP5qZmZmZmck/mpmZmZmZyT+amZmZmZnpP5qZmZmZmck/mpmZmZmZyT+amZmZmZnpP5qZmZmZmck/mpmZmZmZyT+amZmZmZnpP5qZmZmZmck/mpmZmZmZyT+amZmZmZnpP5qZmZmZmck/mpmZmZmZyT+amZmZmZnpP5qZmZmZmck/mpmZmZmZyT+amZmZmZnpP5qZmZmZmck/mpmZmZmZyT+amZmZmZnpP5qZmZmZmck/mpmZmZmZyT+amZmZmZnpP5qZmZmZmck/mpmZmZmZyT+amZmZmZnpP5qZmZmZmck/mpmZmZmZyT+amZmZmZnpP5qZmZmZmck/mpmZmZmZyT+amZmZmZnpP5qZmZmZmck/mpmZmZmZyT+amZmZmZnpP5qZmZmZmck/mpmZmZmZyT+amZmZmZnpP5qZmZmZmck/mpmZmZmZyT+amZmZmZnpP5qZmZmZmck/mpmZmZmZyT+amZmZmZnpP5qZmZmZmck/mpmZmZmZyT+amZmZmZnpP5qZmZmZmck/mpmZmZmZyT+amZmZmZnpP5qZmZmZmck/mpmZmZmZyT+amZmZmZnpP5qZmZmZmck/mpmZmZmZyT+amZmZmZnpP5qZmZmZmck/mpmZmZmZyT+amZmZmZnpP5qZmZmZmck/mpmZmZmZyT+amZmZmZnpP5qZmZmZmck/mpmZmZmZyT+amZmZmZnpP5qZmZmZmck/mpmZmZmZyT+amZmZmZnpP5qZmZmZmck/mpmZmZmZyT+amZmZmZnpP5qZmZmZmck/mpmZmZmZyT+amZmZmZnpP5qZmZmZmck/mpmZmZmZyT+amZmZmZnpP5qZmZmZmck/mpmZmZmZyT+amZmZmZnpP5qZmZmZmck/mpmZmZmZyT+amZmZmZnpP5qZmZmZmck/mpmZmZmZyT+amZmZmZnpP5qZmZmZmck/mpmZmZmZyT+amZmZmZnpP5qZmZmZmck/mpmZmZmZyT+amZmZmZnpP5qZmZmZmck/mpmZmZmZyT+amZmZmZnpP5qZmZmZmck/mpmZmZmZyT+amZmZmZnpP5qZmZmZmck/mpmZmZmZyT+amZmZmZnpP5qZmZmZmck/mpmZmZmZyT+amZmZmZnpP5qZmZmZmck/mpmZmZmZyT+amZmZmZnpP5qZmZmZmck/mpmZmZmZyT+amZmZmZnpP5qZmZmZmck/mpmZmZmZyT+amZmZmZnpP5qZmZmZmck/mpmZmZmZyT+amZmZmZnpP5qZmZmZmck/mpmZmZmZyT+amZmZmZnpP5qZmZmZmck/mpmZmZmZyT+amZmZmZnpP5qZmZmZmck/mpmZmZmZyT+amZmZmZnpP5qZmZmZmck/mpmZmZmZyT+amZmZmZnpP5qZmZmZmck/mpmZmZmZyT+amZmZmZnpP5qZmZmZmck/mpmZmZmZyT+amZmZmZnpP5qZmZmZmck/mpmZmZmZyT+amZmZmZnpP5qZmZmZmck/mpmZmZmZyT+amZmZmZnpP5qZmZmZmck/mpmZmZmZyT+amZmZmZnpP5qZmZmZmck/mpmZmZmZyT+amZmZmZnpP5qZmZmZmck/mpmZmZmZyT+amZmZmZnpP5qZmZmZmck/mpmZmZmZyT+amZmZmZnpP5qZmZmZmck/mpmZmZmZyT+amZmZmZnpP5qZmZmZmck/mpmZmZmZyT+amZmZmZnpP5qZmZmZmck/mpmZmZmZyT+amZmZmZnpP5qZmZmZmck/mpmZmZmZyT+amZmZmZnpP5qZmZmZmck/mpmZmZmZyT+amZmZmZnpP5qZmZmZmck/mpmZmZmZyT+amZmZmZnpP5qZmZmZmck/mpmZmZmZyT+amZmZmZnpP5qZmZmZmck/mpmZmZmZyT+amZmZmZnpP5qZmZmZmck/mpmZmZmZyT+amZmZmZnpP5qZmZmZmck/mpmZmZmZyT+amZmZmZnpP5qZmZmZmck/mpmZmZmZyT+amZmZmZnpP5qZmZmZmck/mpmZmZmZyT+amZmZmZnpP5qZmZmZmck/mpmZmZmZyT+amZmZmZnpP5qZmZmZmck/mpmZmZmZyT+amZmZmZnpP5qZmZmZmck/mpmZmZmZyT+amZmZmZnpP5qZmZmZmck/mpmZmZmZyT+amZmZmZnpP5qZmZmZmck/mpmZmZmZyT+amZmZmZnpP5qZmZmZmck/mpmZmZmZyT+amZmZmZnpP5qZmZmZmck/mpmZmZmZyT+amZmZmZnpP5qZmZmZmck/mpmZmZmZyT+amZmZmZnpP5qZmZmZmck/mpmZmZmZyT+amZmZmZnpP5qZmZmZmck/mpmZmZmZyT+amZmZmZnpP5qZmZmZmck/mpmZmZmZyT+amZmZmZnpP5qZmZmZmck/mpmZmZmZyT+amZmZmZnpP5qZmZmZmck/mpmZmZmZyT+amZmZmZnpP5qZmZmZmck/mpmZmZmZyT+amZmZmZnpP5qZmZmZmck/mpmZmZmZyT+amZmZmZnpP5qZmZmZmck/mpmZmZmZyT+amZmZmZnpP5qZmZmZmck/mpmZmZmZyT+amZmZmZnpP5qZmZmZmck/mpmZmZmZyT+amZmZmZnpP5qZmZmZmck/mpmZmZmZyT+amZmZmZnpP5qZmZmZmck/mpmZmZmZyT+amZmZmZnpP5qZmZmZmck/mpmZmZmZyT+amZmZmZnpP5qZmZmZmck/mpmZmZmZyT+amZmZmZnpP5qZmZmZmck/mpmZmZmZyT+amZmZmZnpP5qZmZmZmck/mpmZmZmZyT+amZmZmZnpP5qZmZmZmck/mpmZmZmZyT+amZmZmZnpP5qZmZmZmck/mpmZmZmZyT+amZmZmZnpP5qZmZmZmck/mpmZmZmZyT+amZmZmZnpP5qZmZmZmck/mpmZmZmZyT+amZmZmZnpP5qZmZmZmck/mpmZmZmZyT+amZmZmZnpP5qZmZmZmck/mpmZmZmZyT+amZmZmZnpP5qZmZmZmck/mpmZmZmZyT+amZmZmZnpP5qZmZmZmck/mpmZmZmZyT+amZmZmZnpP5qZmZmZmck/mpmZmZmZyT+amZmZmZnpP5qZmZmZmck/mpmZmZmZyT+amZmZmZnpP5qZmZmZmck/",
                      "dtype": "f8",
                      "shape": "750, 3"
                    },
                    "size": 1
                  },
                  "mode": "markers",
                  "type": "scatter3d",
                  "x": {
                    "bdata": "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",
                    "dtype": "f8"
                  },
                  "y": {
                    "bdata": "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",
                    "dtype": "f8"
                  },
                  "z": {
                    "bdata": "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",
                    "dtype": "f8"
                  }
                },
                {
                  "marker": {
                    "color": {
                      "bdata": "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",
                      "dtype": "f8",
                      "shape": "750, 3"
                    },
                    "size": 1
                  },
                  "mode": "markers",
                  "type": "scatter3d",
                  "x": {
                    "bdata": "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",
                    "dtype": "f8"
                  },
                  "y": {
                    "bdata": "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",
                    "dtype": "f8"
                  },
                  "z": {
                    "bdata": "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",
                    "dtype": "f8"
                  }
                }
              ],
              "layout": {
                "height": 400,
                "margin": {
                  "b": 0,
                  "l": 0,
                  "r": 0,
                  "t": 0
                },
                "scene": {
                  "camera": {
                    "center": {
                      "x": 0,
                      "y": 0,
                      "z": 0
                    },
                    "up": {
                      "x": 0,
                      "y": 0,
                      "z": 1
                    }
                  }
                },
                "showlegend": false,
                "template": {
                  "data": {
                    "bar": [
                      {
                        "error_x": {
                          "color": "#2a3f5f"
                        },
                        "error_y": {
                          "color": "#2a3f5f"
                        },
                        "marker": {
                          "line": {
                            "color": "#E5ECF6",
                            "width": 0.5
                          },
                          "pattern": {
                            "fillmode": "overlay",
                            "size": 10,
                            "solidity": 0.2
                          }
                        },
                        "type": "bar"
                      }
                    ],
                    "barpolar": [
                      {
                        "marker": {
                          "line": {
                            "color": "#E5ECF6",
                            "width": 0.5
                          },
                          "pattern": {
                            "fillmode": "overlay",
                            "size": 10,
                            "solidity": 0.2
                          }
                        },
                        "type": "barpolar"
                      }
                    ],
                    "carpet": [
                      {
                        "aaxis": {
                          "endlinecolor": "#2a3f5f",
                          "gridcolor": "white",
                          "linecolor": "white",
                          "minorgridcolor": "white",
                          "startlinecolor": "#2a3f5f"
                        },
                        "baxis": {
                          "endlinecolor": "#2a3f5f",
                          "gridcolor": "white",
                          "linecolor": "white",
                          "minorgridcolor": "white",
                          "startlinecolor": "#2a3f5f"
                        },
                        "type": "carpet"
                      }
                    ],
                    "choropleth": [
                      {
                        "colorbar": {
                          "outlinewidth": 0,
                          "ticks": ""
                        },
                        "type": "choropleth"
                      }
                    ],
                    "contour": [
                      {
                        "colorbar": {
                          "outlinewidth": 0,
                          "ticks": ""
                        },
                        "colorscale": [
                          [
                            0,
                            "#0d0887"
                          ],
                          [
                            0.1111111111111111,
                            "#46039f"
                          ],
                          [
                            0.2222222222222222,
                            "#7201a8"
                          ],
                          [
                            0.3333333333333333,
                            "#9c179e"
                          ],
                          [
                            0.4444444444444444,
                            "#bd3786"
                          ],
                          [
                            0.5555555555555556,
                            "#d8576b"
                          ],
                          [
                            0.6666666666666666,
                            "#ed7953"
                          ],
                          [
                            0.7777777777777778,
                            "#fb9f3a"
                          ],
                          [
                            0.8888888888888888,
                            "#fdca26"
                          ],
                          [
                            1,
                            "#f0f921"
                          ]
                        ],
                        "type": "contour"
                      }
                    ],
                    "contourcarpet": [
                      {
                        "colorbar": {
                          "outlinewidth": 0,
                          "ticks": ""
                        },
                        "type": "contourcarpet"
                      }
                    ],
                    "heatmap": [
                      {
                        "colorbar": {
                          "outlinewidth": 0,
                          "ticks": ""
                        },
                        "colorscale": [
                          [
                            0,
                            "#0d0887"
                          ],
                          [
                            0.1111111111111111,
                            "#46039f"
                          ],
                          [
                            0.2222222222222222,
                            "#7201a8"
                          ],
                          [
                            0.3333333333333333,
                            "#9c179e"
                          ],
                          [
                            0.4444444444444444,
                            "#bd3786"
                          ],
                          [
                            0.5555555555555556,
                            "#d8576b"
                          ],
                          [
                            0.6666666666666666,
                            "#ed7953"
                          ],
                          [
                            0.7777777777777778,
                            "#fb9f3a"
                          ],
                          [
                            0.8888888888888888,
                            "#fdca26"
                          ],
                          [
                            1,
                            "#f0f921"
                          ]
                        ],
                        "type": "heatmap"
                      }
                    ],
                    "histogram": [
                      {
                        "marker": {
                          "pattern": {
                            "fillmode": "overlay",
                            "size": 10,
                            "solidity": 0.2
                          }
                        },
                        "type": "histogram"
                      }
                    ],
                    "histogram2d": [
                      {
                        "colorbar": {
                          "outlinewidth": 0,
                          "ticks": ""
                        },
                        "colorscale": [
                          [
                            0,
                            "#0d0887"
                          ],
                          [
                            0.1111111111111111,
                            "#46039f"
                          ],
                          [
                            0.2222222222222222,
                            "#7201a8"
                          ],
                          [
                            0.3333333333333333,
                            "#9c179e"
                          ],
                          [
                            0.4444444444444444,
                            "#bd3786"
                          ],
                          [
                            0.5555555555555556,
                            "#d8576b"
                          ],
                          [
                            0.6666666666666666,
                            "#ed7953"
                          ],
                          [
                            0.7777777777777778,
                            "#fb9f3a"
                          ],
                          [
                            0.8888888888888888,
                            "#fdca26"
                          ],
                          [
                            1,
                            "#f0f921"
                          ]
                        ],
                        "type": "histogram2d"
                      }
                    ],
                    "histogram2dcontour": [
                      {
                        "colorbar": {
                          "outlinewidth": 0,
                          "ticks": ""
                        },
                        "colorscale": [
                          [
                            0,
                            "#0d0887"
                          ],
                          [
                            0.1111111111111111,
                            "#46039f"
                          ],
                          [
                            0.2222222222222222,
                            "#7201a8"
                          ],
                          [
                            0.3333333333333333,
                            "#9c179e"
                          ],
                          [
                            0.4444444444444444,
                            "#bd3786"
                          ],
                          [
                            0.5555555555555556,
                            "#d8576b"
                          ],
                          [
                            0.6666666666666666,
                            "#ed7953"
                          ],
                          [
                            0.7777777777777778,
                            "#fb9f3a"
                          ],
                          [
                            0.8888888888888888,
                            "#fdca26"
                          ],
                          [
                            1,
                            "#f0f921"
                          ]
                        ],
                        "type": "histogram2dcontour"
                      }
                    ],
                    "mesh3d": [
                      {
                        "colorbar": {
                          "outlinewidth": 0,
                          "ticks": ""
                        },
                        "type": "mesh3d"
                      }
                    ],
                    "parcoords": [
                      {
                        "line": {
                          "colorbar": {
                            "outlinewidth": 0,
                            "ticks": ""
                          }
                        },
                        "type": "parcoords"
                      }
                    ],
                    "pie": [
                      {
                        "automargin": true,
                        "type": "pie"
                      }
                    ],
                    "scatter": [
                      {
                        "fillpattern": {
                          "fillmode": "overlay",
                          "size": 10,
                          "solidity": 0.2
                        },
                        "type": "scatter"
                      }
                    ],
                    "scatter3d": [
                      {
                        "line": {
                          "colorbar": {
                            "outlinewidth": 0,
                            "ticks": ""
                          }
                        },
                        "marker": {
                          "colorbar": {
                            "outlinewidth": 0,
                            "ticks": ""
                          }
                        },
                        "type": "scatter3d"
                      }
                    ],
                    "scattercarpet": [
                      {
                        "marker": {
                          "colorbar": {
                            "outlinewidth": 0,
                            "ticks": ""
                          }
                        },
                        "type": "scattercarpet"
                      }
                    ],
                    "scattergeo": [
                      {
                        "marker": {
                          "colorbar": {
                            "outlinewidth": 0,
                            "ticks": ""
                          }
                        },
                        "type": "scattergeo"
                      }
                    ],
                    "scattergl": [
                      {
                        "marker": {
                          "colorbar": {
                            "outlinewidth": 0,
                            "ticks": ""
                          }
                        },
                        "type": "scattergl"
                      }
                    ],
                    "scattermap": [
                      {
                        "marker": {
                          "colorbar": {
                            "outlinewidth": 0,
                            "ticks": ""
                          }
                        },
                        "type": "scattermap"
                      }
                    ],
                    "scattermapbox": [
                      {
                        "marker": {
                          "colorbar": {
                            "outlinewidth": 0,
                            "ticks": ""
                          }
                        },
                        "type": "scattermapbox"
                      }
                    ],
                    "scatterpolar": [
                      {
                        "marker": {
                          "colorbar": {
                            "outlinewidth": 0,
                            "ticks": ""
                          }
                        },
                        "type": "scatterpolar"
                      }
                    ],
                    "scatterpolargl": [
                      {
                        "marker": {
                          "colorbar": {
                            "outlinewidth": 0,
                            "ticks": ""
                          }
                        },
                        "type": "scatterpolargl"
                      }
                    ],
                    "scatterternary": [
                      {
                        "marker": {
                          "colorbar": {
                            "outlinewidth": 0,
                            "ticks": ""
                          }
                        },
                        "type": "scatterternary"
                      }
                    ],
                    "surface": [
                      {
                        "colorbar": {
                          "outlinewidth": 0,
                          "ticks": ""
                        },
                        "colorscale": [
                          [
                            0,
                            "#0d0887"
                          ],
                          [
                            0.1111111111111111,
                            "#46039f"
                          ],
                          [
                            0.2222222222222222,
                            "#7201a8"
                          ],
                          [
                            0.3333333333333333,
                            "#9c179e"
                          ],
                          [
                            0.4444444444444444,
                            "#bd3786"
                          ],
                          [
                            0.5555555555555556,
                            "#d8576b"
                          ],
                          [
                            0.6666666666666666,
                            "#ed7953"
                          ],
                          [
                            0.7777777777777778,
                            "#fb9f3a"
                          ],
                          [
                            0.8888888888888888,
                            "#fdca26"
                          ],
                          [
                            1,
                            "#f0f921"
                          ]
                        ],
                        "type": "surface"
                      }
                    ],
                    "table": [
                      {
                        "cells": {
                          "fill": {
                            "color": "#EBF0F8"
                          },
                          "line": {
                            "color": "white"
                          }
                        },
                        "header": {
                          "fill": {
                            "color": "#C8D4E3"
                          },
                          "line": {
                            "color": "white"
                          }
                        },
                        "type": "table"
                      }
                    ]
                  },
                  "layout": {
                    "annotationdefaults": {
                      "arrowcolor": "#2a3f5f",
                      "arrowhead": 0,
                      "arrowwidth": 1
                    },
                    "autotypenumbers": "strict",
                    "coloraxis": {
                      "colorbar": {
                        "outlinewidth": 0,
                        "ticks": ""
                      }
                    },
                    "colorscale": {
                      "diverging": [
                        [
                          0,
                          "#8e0152"
                        ],
                        [
                          0.1,
                          "#c51b7d"
                        ],
                        [
                          0.2,
                          "#de77ae"
                        ],
                        [
                          0.3,
                          "#f1b6da"
                        ],
                        [
                          0.4,
                          "#fde0ef"
                        ],
                        [
                          0.5,
                          "#f7f7f7"
                        ],
                        [
                          0.6,
                          "#e6f5d0"
                        ],
                        [
                          0.7,
                          "#b8e186"
                        ],
                        [
                          0.8,
                          "#7fbc41"
                        ],
                        [
                          0.9,
                          "#4d9221"
                        ],
                        [
                          1,
                          "#276419"
                        ]
                      ],
                      "sequential": [
                        [
                          0,
                          "#0d0887"
                        ],
                        [
                          0.1111111111111111,
                          "#46039f"
                        ],
                        [
                          0.2222222222222222,
                          "#7201a8"
                        ],
                        [
                          0.3333333333333333,
                          "#9c179e"
                        ],
                        [
                          0.4444444444444444,
                          "#bd3786"
                        ],
                        [
                          0.5555555555555556,
                          "#d8576b"
                        ],
                        [
                          0.6666666666666666,
                          "#ed7953"
                        ],
                        [
                          0.7777777777777778,
                          "#fb9f3a"
                        ],
                        [
                          0.8888888888888888,
                          "#fdca26"
                        ],
                        [
                          1,
                          "#f0f921"
                        ]
                      ],
                      "sequentialminus": [
                        [
                          0,
                          "#0d0887"
                        ],
                        [
                          0.1111111111111111,
                          "#46039f"
                        ],
                        [
                          0.2222222222222222,
                          "#7201a8"
                        ],
                        [
                          0.3333333333333333,
                          "#9c179e"
                        ],
                        [
                          0.4444444444444444,
                          "#bd3786"
                        ],
                        [
                          0.5555555555555556,
                          "#d8576b"
                        ],
                        [
                          0.6666666666666666,
                          "#ed7953"
                        ],
                        [
                          0.7777777777777778,
                          "#fb9f3a"
                        ],
                        [
                          0.8888888888888888,
                          "#fdca26"
                        ],
                        [
                          1,
                          "#f0f921"
                        ]
                      ]
                    },
                    "colorway": [
                      "#636efa",
                      "#EF553B",
                      "#00cc96",
                      "#ab63fa",
                      "#FFA15A",
                      "#19d3f3",
                      "#FF6692",
                      "#B6E880",
                      "#FF97FF",
                      "#FECB52"
                    ],
                    "font": {
                      "color": "#2a3f5f"
                    },
                    "geo": {
                      "bgcolor": "white",
                      "lakecolor": "white",
                      "landcolor": "#E5ECF6",
                      "showlakes": true,
                      "showland": true,
                      "subunitcolor": "white"
                    },
                    "hoverlabel": {
                      "align": "left"
                    },
                    "hovermode": "closest",
                    "mapbox": {
                      "style": "light"
                    },
                    "paper_bgcolor": "white",
                    "plot_bgcolor": "#E5ECF6",
                    "polar": {
                      "angularaxis": {
                        "gridcolor": "white",
                        "linecolor": "white",
                        "ticks": ""
                      },
                      "bgcolor": "#E5ECF6",
                      "radialaxis": {
                        "gridcolor": "white",
                        "linecolor": "white",
                        "ticks": ""
                      }
                    },
                    "scene": {
                      "xaxis": {
                        "backgroundcolor": "#E5ECF6",
                        "gridcolor": "white",
                        "gridwidth": 2,
                        "linecolor": "white",
                        "showbackground": true,
                        "ticks": "",
                        "zerolinecolor": "white"
                      },
                      "yaxis": {
                        "backgroundcolor": "#E5ECF6",
                        "gridcolor": "white",
                        "gridwidth": 2,
                        "linecolor": "white",
                        "showbackground": true,
                        "ticks": "",
                        "zerolinecolor": "white"
                      },
                      "zaxis": {
                        "backgroundcolor": "#E5ECF6",
                        "gridcolor": "white",
                        "gridwidth": 2,
                        "linecolor": "white",
                        "showbackground": true,
                        "ticks": "",
                        "zerolinecolor": "white"
                      }
                    },
                    "shapedefaults": {
                      "line": {
                        "color": "#2a3f5f"
                      }
                    },
                    "ternary": {
                      "aaxis": {
                        "gridcolor": "white",
                        "linecolor": "white",
                        "ticks": ""
                      },
                      "baxis": {
                        "gridcolor": "white",
                        "linecolor": "white",
                        "ticks": ""
                      },
                      "bgcolor": "#E5ECF6",
                      "caxis": {
                        "gridcolor": "white",
                        "linecolor": "white",
                        "ticks": ""
                      }
                    },
                    "title": {
                      "x": 0.05
                    },
                    "xaxis": {
                      "automargin": true,
                      "gridcolor": "white",
                      "linecolor": "white",
                      "ticks": "",
                      "title": {
                        "standoff": 15
                      },
                      "zerolinecolor": "white",
                      "zerolinewidth": 2
                    },
                    "yaxis": {
                      "automargin": true,
                      "gridcolor": "white",
                      "linecolor": "white",
                      "ticks": "",
                      "title": {
                        "standoff": 15
                      },
                      "zerolinecolor": "white",
                      "zerolinewidth": 2
                    }
                  }
                },
                "width": 600
              }
            }
          },
          "metadata": {},
          "output_type": "display_data"
        }
      ],
      "source": [
        "def random_rotation_matrix():\n",
        "    \"\"\"Generate random 3D rotation matrix using SVD\"\"\"\n",
        "    rand_mat = np.random.rand(3, 3)\n",
        "    U, _, Vt = np.linalg.svd(rand_mat)\n",
        "    R = U @ Vt\n",
        "    if np.linalg.det(R) < 0:\n",
        "        Vt[-1,:] *= -1\n",
        "        R = U @ Vt\n",
        "    return R\n",
        "\n",
        "# Create transformation components\n",
        "R_true = random_rotation_matrix()\n",
        "t_true = np.random.rand(3) * 0.3\n",
        "\n",
        "# Apply transformation\n",
        "transformed_points = (R_true @ original_points.T).T + t_true\n",
        "\n",
        "# Create transformed point cloud\n",
        "transformed_pcd = o3d.geometry.PointCloud()\n",
        "transformed_pcd.points = o3d.utility.Vector3dVector(transformed_points)\n",
        "transformed_pcd.paint_uniform_color([0.8, 0.2, 0.2])  # Red\n",
        "\n",
        "# Visualize both clouds\n",
        "o3d.visualization.draw_plotly([original_pcd, transformed_pcd],\n",
        "                                 window_name=\"Original vs Transformed\")"
      ]
    },
    {
      "cell_type": "markdown",
      "id": "ed582cd0",
      "metadata": {
        "id": "ed582cd0"
      },
      "source": [
        "## 🧮 Procrustes Alignment Implementation (8 Points)\n",
        "**Exercise: Complete the implementation of Procrustes Alignment by**\n",
        "- **Centering data**\n",
        "- **Computing R rotation and t translation**\n",
        "- **Compute the aligned point cloud considering R&t**"
      ]
    },
    {
      "cell_type": "code",
      "execution_count": 33,
      "id": "9c7ab7b7",
      "metadata": {
        "id": "9c7ab7b7"
      },
      "outputs": [],
      "source": [
        "def procrustes_alignment(source, target):\n",
        "    \"\"\"\n",
        "    📐 Perform Procrustes alignment of source to target\n",
        "    Args:\n",
        "        source: (N,3) array of source points\n",
        "        target: (N,3) array of target points\n",
        "    Returns:\n",
        "        aligned_source: (N,3) aligned source points\n",
        "        R: (3,3) rotation matrix\n",
        "        t: (3,) translation vector\n",
        "    \"\"\"\n",
        "    # 🎯 Step 1: Center the data\n",
        "    source_mean = np.mean(source, axis=0)\n",
        "    target_mean = np.mean(target, axis=0)\n",
        "    source_cent = source-source_mean\n",
        "    target_cent = target-target_mean\n",
        "\n",
        "    # 🔍 Step 2: Compute rotation and translation estimates\n",
        "    cross_cov = target_cent.T@source_cent\n",
        "    U, Sigma, Vt = np.linalg.svd(cross_cov)\n",
        "    R = U@Vt\n",
        "    t = R@source_mean - target_mean\n",
        "\n",
        "    #  Step 3: Align points\n",
        "    aligned_source = R@source.T - t[:,np.newaxis]\n",
        "\n",
        "    return aligned_source.T, R, t"
      ]
    },
    {
      "cell_type": "markdown",
      "id": "05f42608",
      "metadata": {
        "id": "05f42608"
      },
      "source": [
        "## 🧪 Apply Procrustes Alignment"
      ]
    },
    {
      "cell_type": "code",
      "execution_count": 34,
      "id": "fde55dca",
      "metadata": {
        "colab": {
          "base_uri": "https://localhost:8080/",
          "height": 417
        },
        "id": "fde55dca",
        "outputId": "f8f78738-a5c5-4d95-e0ea-d0fbe5150538"
      },
      "outputs": [
        {
          "data": {
            "application/vnd.plotly.v1+json": {
              "config": {
                "plotlyServerURL": "https://plot.ly"
              },
              "data": [
                {
                  "marker": {
                    "color": {
                      "bdata": "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",
                      "dtype": "f8",
                      "shape": "750, 3"
                    },
                    "size": 1
                  },
                  "mode": "markers",
                  "type": "scatter3d",
                  "x": {
                    "bdata": "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",
                    "dtype": "f8"
                  },
                  "y": {
                    "bdata": "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",
                    "dtype": "f8"
                  },
                  "z": {
                    "bdata": "M+q+0iVjgD+I8wzg39SYv4lHgtuDroK/i902tofKdr/eFG93Bf92v7/JSSmn7XU/ZnufgfIgmT8GHwEtI9iaP8YTyt5Ne6O/cPWl8kswjT+MzL77CUimPynAJiFQWK0/pMXvDiUpoT+Uqs+5NPWsP1NrbZ2CWkS/WeILvsmtm7+GU0yeryuRP04osZ4cF44/KHF43S2Hlz+ONzWhWYCNv30jgjP/BaU/yTXiwCFrrT+Gflf5WoJhv7M1Kzp1Gpo/htOuJobXjL/B9q+xNJmHv+nfhieksJW/JftdjRCpcb/djSMBv0Byv3ivI1+QoY6//fHNIXijoD/23695ZN+Qv8f7zObQy6Q/PXEgxj3/oz/LPBBnxE6GvzU/cUgC2Z8/wQR8FZEcoD+qnkI7dYiBv2/fOJJu7ZA/Fedugk+bnb8gyE6oM6CZvxqzBjYNe10/mDF/6HO6cL8C5HYzEeymP2DWWe2PhaI/r0WNir2vlr82oTk4DP1+PwvquTzy95u/jkqFkRk8nT/2zmrraABtv/4Hr+a0AZa/YDJ1XyW0qT9ilexO54eTvwj3d1/U5lU/3uN3S/yDgD8ilR1zmHyjP74DYJUtwZM/u5mju40DrD+g3XWVBcuVv9HTOY3kQY2/pJ+ChMogdL8qfoerrYaoP1FRDpAoLIm/PE9VRz9Hmz8G2YA+lrWsP2b5llyvAms/g9KWEmqqkT8e55fSgYmQvy+pnGY0Cok/GcFnRmJArD+SCx9JuxRwvxKjPdMY/pW/NXDRDi80rr+3ESTDrUuYP38RI5Ahao0/KQ51QAg7oz8Zgzejzx1zPz46SWRoMqM/KI0117UGdD/MfdWU1lihPwzB6donWW8/9ESKH1rzkj9Jva1Da6+qP12OOiJF4aE/4EwXP7X1lj+NApu9BcqfP8SGMW9jGKc//OAYKPAboj/XDgL2yJ2gv7FN6tJjMqY/X6uhS1wXoj8cNF/iIEGavy+XVDWwr5w/hmLDIOz1qD/AyiSXU9eiP45VQp8jzIu/Lt+B5gfCdL/NtG1gk5CRP5D77RE7BJq/ThCBuLmMlr8e+iFeiw92v2xXoeeWbIa/ZcjZ0k+Hor9ysfxYNqeSv8l9OtU/oJc/Bjy1jlynob+sGHuxitJ/P2HNmXXOgaY/xmZAgUAboD/23sY5fkaqvwzDiz5EdFC/urjQ4bJHnb/K92Lh5BCJvzQWAk7STpu/Cd7t0vL3m78AsziODquZP7DwkgVzAJ+/PAaS/GUBoT8CAGfhLiqjP+onr5m7iJi/1DCARajnbr9Am7R3AEetP35ZuArUH4s/VEJXNZXioD9+K8pFykGrP9o5RHkKdHi/ifD+0pkpnT+sI0i0is6Qv8w9K4YxOaU/aOkSoFfvl7+Ern6veO6mP7e++MUxOKc/Eki9R8CdqD8zgo9D532kP2sczHH+/ok/lvN62jgOoT+HaZEzNxuov1uUy8tKV5C/Jiq9+EZnpr+DCNWyVMF3Pw2uLwYSEp0/I9DUMliMmj9JDjOpuGyjPxfePMjBe3i/id09IaaJkD/5dUsHzxyTP5zMMqJdXJI/hlLR8gS6ej8+0gTRhaKtvyQZwhu/jqe/OCEq3ojuk79HovWkhmSqP7oHVYD2tZU/8q8fZPFmkD/BiAt6XBWrv1ITlMjJK5g/QBUledGymj++1B2A1MJKv5q/xRsQupU/+gAcWxTSkL8/zK07upKqP4wjky5O4IK/p9Y4BIZzlD8o1He++CqVvzBhJzj9RqK/REJmiuOipD90wEGRSRRmv65/zCWB3Kk/n7Y+3ZS0kj9BYxnP47oRv6n+18lgK5m/jDBKKOl8pD/ENl6+yAanP9IFf8PWQII/ckhiCUSqd7+sbTjXczmaP2PToA0fcpC/Cv12lwNAlb9X1MDJFDmCP+41L4Yxy00/OvLli17gpD94U7HlEHKXv5Kc8UkTvqk/3Lq+7mikoD9FBnQffZKJP2PUC/pptaG/bLLyZcePkb94ceV/tkSUv9Kg7CDRJIa/Wkx4eDH2oj/oaVeVvwKmP3pXd52oU4M/RAzySP0VgD+j0VD+ZA+RPx+nMUyL3qI/MgfGidR6pD8Ijygthe+Qv0/vkTiUCGA/Gdj2pkzqkb9ESSlPNfCcP9JCIiRQOJE/bZOqghNBor+pL82DgBKTv97J9Fhru6o/e0JXNul+mz9IqjXQJhaRP3GllJBZNJc/hrXnetYcUr9WHkP3qAicv6DH9ruG1Yo/HYM+gK75db9B2N8E1GNvv87GhQyzS6M/5hWPZN4yh78JrP6Mwa+Uv9SGRS4byYu/LBxmPchmoT8idZRGJON3PwD5KEss0Z8/qFWPhQmknD8ESyFUJf2pP+IQa+7L5qE/IiwMzmz+mj/4CF15KvWlvy39E/6vjqs/oBpUsm9WWb9VkC6gYZR/v0Osu3uqXqg/antDze6dmj+aMBNnPa2kP5rG2qt3uaY/dRLGdg6Poz8P173xhsN5v3N7JpfDZJC//5azblM/gb+30H3mZHimvzn6jF5s+oY/NKhblBZ7jr8IJISU4yClP1anafNNwH6/BgWGx2Unkr/ID1EHgMOKv5WxqVyvYaU/HtoadapTmr8jA4AA++mTvygFkdbMwmI/qH09Qxafk7/OXKuchDD5PpyuI4b5EJA/NPizTvQ0hL/PcQPYFEWbv1XqkB2LVaC/K0nV4esVlz/WNFJuHiupPxPRnqWLFaY/YCA1bEpQiD+ZGlVCJ7x5PwgEHhqpg6Q/5K0iebc/nD+mPbB7y52rP7jrCitsNW2/0CJshesKrD8senoDuoqHP3hKW7XcLHO/QUuJX96+or/LFkohw9mjv4cK53yEE5k/KGV5RECnn78WDvi0EG2mP1LBkGwGdak/isr+dI/ujr/bHhncYzRxv7nq+F0m8E2/pjbbTtVHrD/ZBb+QUfOGP0lZB/Xfh42/afBgDkg0qT/kXJwxWY51v2SfAhGFF0q/BC6Zv3GsrL/mNJOag0yGv6LZoN3AZZO/XHYB6mhdpz84GV47hgChP9o4e+DZN6U/8CDIsHuioj+iOv66gRqZv/wCU1oz23c/dwHC9A0lfr+C9gKoknKgP2PoW8UDtkU/0GsMyknUkj9rVUJMWjChP/bsLLn9yn+/L5nhDNFYgT9qidNS/1eNv4zCAdPSUzq/eJE2Rojyoj8kpxZP6T2kP1gRdP/H13s/SW2XBujIqT+gCq3dpUOYPxPoMe9tfGK/FYioQXf6pT/GcRLkoz6PvxzRQ2ZhuJa/epYYkK9Pjb9kD5DhUuCRP8d9ykFY1KI/HA/5ruxUf78hjpCxA+ydP7QPgyeaqqM/e24QTY2Mj78dNFq1+M6jP0TPGua0nnA/bi2KTPKajL+fy/er2lCYP8xbEuWouaO/XLzsSvzOoT9/B2otvpyUP9GXOiIcSIy/pIGWWzjVrb+QJXytwZCOv1zhGj9XcZc/tW8855/ymT+/W2J7j6CSv2VSPYtTWam/5TUlE4Orpj+gA8M2nJeBv7YnDo9oDKU/fiRzN3pjob+TfYUwqJGpP9zoqVSYZ58/CT2m9yz0gz+uJik0hFWYP1y7UIRnspi/vwqy6yZPoj9Rs8eJgyuLP0xwlTRxjyg/CaDmXJkkkT9sC8DPaN+RPzJxdE8npKE/Vpyh+rkccb8skEjFPVafv6YKldGdqZe/VUn3mOIRl7/GOxvmTpKJv/isgDUE5Wa/nn+Kwfe5mz/Fp101+06rP5NQgY+gm5a/4a1urIxPlb9QV8fuOyubv2Ej8vsLwGa/mzG/6SmlhL8yFNbeWHqDv5myv81OmKs/e8VftwW2pT/EpS9EprajPzy4VUoElqW/lWGk0j/Kbb9mXeu32X+HP8whRPsT5H+/eYKOZVa1kr+0nHHlxntqP/NHyMGueKc/In5iqsP8pD/YsPZ/yxiBv1hhD3pwWZ6/DkxzNAx3ar82YoPAorynP0iCDAi66ni/+3OFPkhJe78TxwZo+Guiv6KXsHeYpKq/hF/zPshRk7+18gwJjgCDv3Us2z2Sb6U/GmfDcOzwn78gFYmdeyyXv9iOvoBTzpu/rhFwTOu4pT9TMujHmr1iv8T6f14srKk/9F2vHy9Dir/N6towO4qDP5Zo3nDzM5a/+kxsgZuMjz8JDXtKIeCgPxm/yi6uEKO/4nR2NRWnpj+yE7/sBRaZv2zj6kQBOZg/2xekuXkvg7/yf2+K081qP0UpCWLBmmk/xk9z0fFAeb8P0a/orfZeP4jX8Cqiu6o/6Q+UqxIJkr9VGk7jcnxRvxsPbNor7pW/nrQczC/mk7/LQKmrxWGkPwysWyeJc6I/9LGUi6Nqfz/ug0CXVmFyPy0ngSc4yJy/L22976nSoT+tlJGxWUSmP7snrpyznZA/JV9xnhI8iL+e6+ouE8OUP+wmzuHdxpK/UYlkNNz3qj9ASUvVUkebPwANnoLK76U/L/H1dq1el7/Ph5gYNBiBP+pWuFXk8qo/ctiuUVPSlb+l7qHc6HiKv0J20ov734u/gFzjsZLSkj+OMDohMxiJv1dPN8SzQHW/stfdyYDfn7/szeqP/SWeP7WjXhNXoJk/w+MzlWjfoz8QK4mxm5SFvyKUIHHR8U0/fo9LCancjr8g60gTQGGVP6KlLgfOQ6C/IEB30CUfmr+AWmRsgS1kv0AqKTkAV6Q/YiW9+FdKib9WS4KwiCOmP3wN/mWe0oM/Xu5xAKPtrD/dNxiDEGp3vw6UheOz/3y/sezMLCVMkD+u/BO+DT2JP4gRaaYZVKA/RTKTXd4zhz8Odo7ikjWWvyh/qarQYn6/YtA1Nu/qqj9sKnHVHWebv2o+GEAJm4k/uzbGStJFib8D4bIC+j6Gv+TfL/DJBKw/TgSiDiMwpT9QFFH7/oWiP46PtkRlrqI/blsSQIx5qz8sQ21FlS6YP1lQeUu3PKw/PZ6hr4s2dz/eDUDWbsyav+EJVUlW4Jk/Ln0hX1OVnb+qgUQEF3idP77ke6befHO/VznmzxlYpj/p7/zeAH+mP4whfIBH9Xa/+hOHlhTwlT/oK+6sb+WTP5aU8bZIej4/8Kaq/9xRkr/OfvJl4vyGvxHwb1UfCn2/RQwX8sR2lz+NJgllWu2CvyCI+FmLMKC/rB1ehgAYoD/fP8Wimm+qPzJT7afrw4s/VxHMUPFBhz/gQmq1vVCWP5HeoYNzZqY/WbCTRBKSYj8/vuB2H1t+vyLB6lMyd22/TGTWCPhFc78yIfUnAAKoPzr77WRinKI/HGNB4rl4fD/OwzBCe/Kevx5Zae0VfZa/xUvZyNsdnr/qmTGADzmXv3Cf7Y2HcGU/8ufekQlSkL/Ja72pBa6Rvw/uXa6U4qI/FgXhBWUXob82Rtg5PNOmP13Dn413cZK/l9J2Pwv7pj9ATxe+p4qlP/n7qnTx/qI/7GUoKEMwmz90l3I5lneRPwZXcpXEmqU/P90BlN6uoL86UWbP9s11P0g6U2Jhpoc/xvmoRcHGpj8g5EQ+u72kP5vvWR1rwEA/j1H5v7a8or+oswc86cpkv+8/yCtNTa6/GPUvPIBwnT9CJsXain+ZP+w28rHEnKc/APMeV/gPpT9TBi7MqQyCv8A+mszXfKM/b1yi356ZlL+g/UOqxdOFv8dCOQD/XKI/krp4xLUyoD9h89z22KSWv5p1rwkAi3y/BKITGWmEcT9EHt+CSbGdP6Zo2vy9HJg/MIiTAV1Wm7/IHWn6HIuUP6pM5foZ4oS/Lg1UjaFUn7/JNWUMyJiBv6td7oGLR1M/0JKb48i9oj/skUFsyT2Sv/WZu4faCpw/7gw4lYm3oz9Ji0oeoB2iv01PP+ClGKs/8hxkXUZIrT+w3D6GWwCnP62TrImGnaU/9U6A6f2cYz94F/KBYw2nP1QxJ23PgaC/0WQ3x9fHpT+6n7W7LqicP3Fyn6AfZEK/psWdNAOGir/WzzMOxoamvzTauWfYoac/MFizZMCxo78vRefQzCaqPxrkEK0QWKM/n6N1aMkioD95gCftgwyhP0i7VmT6hIo/fNYqdGOioj/ezpR8dqiYvyB5mN4MvYc/cgS11nL5bL+PUtHDaHJCP5bGTICro6A/3df7z2ehhr8FUYkQazupPySMWuO/34I/6GaR2L8hpj+uPe+HenOIv6RQz5r5OKg/i553lndkjb/0SuEShWOpP/2XqY8SlX0/+thENEn6pT+Aq9fzEt+fv/vlzUKsWYA/Ujs4tBpNoT8HXB86MuKhv1JvMv4XUY+/dFakOAE2aL+b9IdiSa2Bv/JH84juMpG/CmWzD6+Gk7/WYA6dVyqJvxLcLko4fZK/OiBn/6lAoT8OAfUCN4Chv3BawV6kcKE/lD8JUKpomz/wLGeyaOF/P/uY3bQj0YW/byJlNe4Zpz9ewFXepEihP2bvMS+tDpQ/4jMrtgFmmT95fsD/A3KlP6zpAZBiQ5E/eKgc06/goj9LhmzpcWefP87vYLsZVIm/3a74DJiclL8G9yR2B31YP5MXjiRfXac/rfp+UgYTnT/Tiv+sKAR+P20tTyxFwIm/+rDQLeQsbb/fn02QMr+cv7tPdftnlZ8/PDEGqBjhZT8CsuHfhDudP6Jhfu0WRqU/Sc0SJ8H2lz8M9TQsB6KlP27uypo1Cqo/XxZbkuHVmD+urZlN8zWZv4fjunhe0JC/xm7iAyL3TL9krZouf4Obv9V5AcOV0z8/71vE1sHYpD8I6mcvimutP7A+GtdtxJa/00PpaOPgkr/JrU8wqHSkP4jjQECoPY8/YE8WmPifhr/UBJvVQUqoPwfRVSYDFJK/exKJ9XqKgr8TRvaD02Wiv+6v9H6/1pm/mCfZQgB+fj8SVunHXqGoP7KqsEDWtJ6/OZqogYkBbb8Mq2FlZyukPwN6RfMSl4E/Tvbp0ZBKm7/GMAthdY6Yv3iZbRpdA5C/yFNxkxTSk79icu2jZOKkP402QWWNSoq/FN83B9Xxoz+JcxA58BijP7zfo6Sn8qA/+ZdTA3Z+g78e+a625uiGv7mvIt8bM2e/qg94tbgJk78Mr7jUXXaLP2Xt/hFsgKU/avLcqmr6gz8G0OnUXS6Yv6RLMLbifJw/AgLqj/nCWr9gP70Gwep8P44OsYmSCqO/5Tmj1mwKpj+ElV4FbONjv444EGb4spM/xJw4KOJvdr+WA2YDbsVkP3RhlHvWZJC/usRXISjIgD+U0jkp4Fl4P28pfW3Q+Zi/dYUfj3s5hr89alizjE6hPzMCUJdsBps/6F+WTt2ncr8VzHV1v4umPxMHoTIo/JA/3I/uiNuYqT8M17+TFtmTP3ruXquzYKY/FOxNJiK2qr9ULeAFyCmRPzoXjP9eYqQ/8Jb7V63mrD/YuQ9ZYfpzP12HMPewJWq/CLhtBKV8hD+EtUm3oU6CP8vfIQihjZ8/Ky967ZFfnD8FORuiTB2HvzpaeCkw5H+/nBgtd6oGpD+ixscM4PajPzQhp1WtnaM/WF3fZ4iHk79sL/YHDeeUv6eq/nz+Z5Q/zQdnnbI4oj9oFdXAPaBQP3a4wyB7hpM/QP9hQaWepT++Dvq+gGCkP/Z6AqYlzXW/fj8eyuBhoj+9ILyDj1KQP5AQ9P5t43u/PkUBI6mvnT8hbp7uhqSoP1sYOHlks6O/kfiitxVRl78OktowwO10P1T4p0ux85c/Ae0+fGgkgL/aSrspmv+IP0UKRSQVPZ8/AL6rI7xOob+AYRYwIhWmP9R/peSe+6c/FRePmFk3lj+2tmWU6l2kPw7MtR4SKou/2JsMgJWsqj+8iBEV8J5XP5LgemFU8oW/47/YpI21pT8Kw6TnFcugv6dxB4tCYpU/qSXedENrmr9WJuyrSmqJv6yqTLcGh4M/8TBZ1PTypj92jCkfYoByPxgbsNnhNpi/YVKyky1rkD/Cl+CBPA6GP/JiLZPri6W/NB8f0mI+pD9XfZB9dq2gPxw2UZ/JkKY/8KmYTQbFgb/USIicvJ6lP7zTOKwEo4k/1Tyb4qWThr+2NGKqyyalP+tLvzXZ5Kw/",
                    "dtype": "f8"
                  }
                },
                {
                  "marker": {
                    "color": {
                      "bdata": "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",
                      "dtype": "f8",
                      "shape": "750, 3"
                    },
                    "size": 1
                  },
                  "mode": "markers",
                  "type": "scatter3d",
                  "x": {
                    "bdata": "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",
                    "dtype": "f8"
                  },
                  "y": {
                    "bdata": "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",
                    "dtype": "f8"
                  },
                  "z": {
                    "bdata": "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",
                    "dtype": "f8"
                  }
                },
                {
                  "marker": {
                    "color": {
                      "bdata": "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",
                      "dtype": "f8",
                      "shape": "750, 3"
                    },
                    "size": 1
                  },
                  "mode": "markers",
                  "type": "scatter3d",
                  "x": {
                    "bdata": "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",
                    "dtype": "f8"
                  },
                  "y": {
                    "bdata": "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",
                    "dtype": "f8"
                  },
                  "z": {
                    "bdata": "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",
                    "dtype": "f8"
                  }
                }
              ],
              "layout": {
                "height": 400,
                "margin": {
                  "b": 0,
                  "l": 0,
                  "r": 0,
                  "t": 0
                },
                "scene": {
                  "camera": {
                    "center": {
                      "x": 0,
                      "y": 0,
                      "z": 0
                    },
                    "up": {
                      "x": 0,
                      "y": 0,
                      "z": 1
                    }
                  }
                },
                "showlegend": false,
                "template": {
                  "data": {
                    "bar": [
                      {
                        "error_x": {
                          "color": "#2a3f5f"
                        },
                        "error_y": {
                          "color": "#2a3f5f"
                        },
                        "marker": {
                          "line": {
                            "color": "#E5ECF6",
                            "width": 0.5
                          },
                          "pattern": {
                            "fillmode": "overlay",
                            "size": 10,
                            "solidity": 0.2
                          }
                        },
                        "type": "bar"
                      }
                    ],
                    "barpolar": [
                      {
                        "marker": {
                          "line": {
                            "color": "#E5ECF6",
                            "width": 0.5
                          },
                          "pattern": {
                            "fillmode": "overlay",
                            "size": 10,
                            "solidity": 0.2
                          }
                        },
                        "type": "barpolar"
                      }
                    ],
                    "carpet": [
                      {
                        "aaxis": {
                          "endlinecolor": "#2a3f5f",
                          "gridcolor": "white",
                          "linecolor": "white",
                          "minorgridcolor": "white",
                          "startlinecolor": "#2a3f5f"
                        },
                        "baxis": {
                          "endlinecolor": "#2a3f5f",
                          "gridcolor": "white",
                          "linecolor": "white",
                          "minorgridcolor": "white",
                          "startlinecolor": "#2a3f5f"
                        },
                        "type": "carpet"
                      }
                    ],
                    "choropleth": [
                      {
                        "colorbar": {
                          "outlinewidth": 0,
                          "ticks": ""
                        },
                        "type": "choropleth"
                      }
                    ],
                    "contour": [
                      {
                        "colorbar": {
                          "outlinewidth": 0,
                          "ticks": ""
                        },
                        "colorscale": [
                          [
                            0,
                            "#0d0887"
                          ],
                          [
                            0.1111111111111111,
                            "#46039f"
                          ],
                          [
                            0.2222222222222222,
                            "#7201a8"
                          ],
                          [
                            0.3333333333333333,
                            "#9c179e"
                          ],
                          [
                            0.4444444444444444,
                            "#bd3786"
                          ],
                          [
                            0.5555555555555556,
                            "#d8576b"
                          ],
                          [
                            0.6666666666666666,
                            "#ed7953"
                          ],
                          [
                            0.7777777777777778,
                            "#fb9f3a"
                          ],
                          [
                            0.8888888888888888,
                            "#fdca26"
                          ],
                          [
                            1,
                            "#f0f921"
                          ]
                        ],
                        "type": "contour"
                      }
                    ],
                    "contourcarpet": [
                      {
                        "colorbar": {
                          "outlinewidth": 0,
                          "ticks": ""
                        },
                        "type": "contourcarpet"
                      }
                    ],
                    "heatmap": [
                      {
                        "colorbar": {
                          "outlinewidth": 0,
                          "ticks": ""
                        },
                        "colorscale": [
                          [
                            0,
                            "#0d0887"
                          ],
                          [
                            0.1111111111111111,
                            "#46039f"
                          ],
                          [
                            0.2222222222222222,
                            "#7201a8"
                          ],
                          [
                            0.3333333333333333,
                            "#9c179e"
                          ],
                          [
                            0.4444444444444444,
                            "#bd3786"
                          ],
                          [
                            0.5555555555555556,
                            "#d8576b"
                          ],
                          [
                            0.6666666666666666,
                            "#ed7953"
                          ],
                          [
                            0.7777777777777778,
                            "#fb9f3a"
                          ],
                          [
                            0.8888888888888888,
                            "#fdca26"
                          ],
                          [
                            1,
                            "#f0f921"
                          ]
                        ],
                        "type": "heatmap"
                      }
                    ],
                    "histogram": [
                      {
                        "marker": {
                          "pattern": {
                            "fillmode": "overlay",
                            "size": 10,
                            "solidity": 0.2
                          }
                        },
                        "type": "histogram"
                      }
                    ],
                    "histogram2d": [
                      {
                        "colorbar": {
                          "outlinewidth": 0,
                          "ticks": ""
                        },
                        "colorscale": [
                          [
                            0,
                            "#0d0887"
                          ],
                          [
                            0.1111111111111111,
                            "#46039f"
                          ],
                          [
                            0.2222222222222222,
                            "#7201a8"
                          ],
                          [
                            0.3333333333333333,
                            "#9c179e"
                          ],
                          [
                            0.4444444444444444,
                            "#bd3786"
                          ],
                          [
                            0.5555555555555556,
                            "#d8576b"
                          ],
                          [
                            0.6666666666666666,
                            "#ed7953"
                          ],
                          [
                            0.7777777777777778,
                            "#fb9f3a"
                          ],
                          [
                            0.8888888888888888,
                            "#fdca26"
                          ],
                          [
                            1,
                            "#f0f921"
                          ]
                        ],
                        "type": "histogram2d"
                      }
                    ],
                    "histogram2dcontour": [
                      {
                        "colorbar": {
                          "outlinewidth": 0,
                          "ticks": ""
                        },
                        "colorscale": [
                          [
                            0,
                            "#0d0887"
                          ],
                          [
                            0.1111111111111111,
                            "#46039f"
                          ],
                          [
                            0.2222222222222222,
                            "#7201a8"
                          ],
                          [
                            0.3333333333333333,
                            "#9c179e"
                          ],
                          [
                            0.4444444444444444,
                            "#bd3786"
                          ],
                          [
                            0.5555555555555556,
                            "#d8576b"
                          ],
                          [
                            0.6666666666666666,
                            "#ed7953"
                          ],
                          [
                            0.7777777777777778,
                            "#fb9f3a"
                          ],
                          [
                            0.8888888888888888,
                            "#fdca26"
                          ],
                          [
                            1,
                            "#f0f921"
                          ]
                        ],
                        "type": "histogram2dcontour"
                      }
                    ],
                    "mesh3d": [
                      {
                        "colorbar": {
                          "outlinewidth": 0,
                          "ticks": ""
                        },
                        "type": "mesh3d"
                      }
                    ],
                    "parcoords": [
                      {
                        "line": {
                          "colorbar": {
                            "outlinewidth": 0,
                            "ticks": ""
                          }
                        },
                        "type": "parcoords"
                      }
                    ],
                    "pie": [
                      {
                        "automargin": true,
                        "type": "pie"
                      }
                    ],
                    "scatter": [
                      {
                        "fillpattern": {
                          "fillmode": "overlay",
                          "size": 10,
                          "solidity": 0.2
                        },
                        "type": "scatter"
                      }
                    ],
                    "scatter3d": [
                      {
                        "line": {
                          "colorbar": {
                            "outlinewidth": 0,
                            "ticks": ""
                          }
                        },
                        "marker": {
                          "colorbar": {
                            "outlinewidth": 0,
                            "ticks": ""
                          }
                        },
                        "type": "scatter3d"
                      }
                    ],
                    "scattercarpet": [
                      {
                        "marker": {
                          "colorbar": {
                            "outlinewidth": 0,
                            "ticks": ""
                          }
                        },
                        "type": "scattercarpet"
                      }
                    ],
                    "scattergeo": [
                      {
                        "marker": {
                          "colorbar": {
                            "outlinewidth": 0,
                            "ticks": ""
                          }
                        },
                        "type": "scattergeo"
                      }
                    ],
                    "scattergl": [
                      {
                        "marker": {
                          "colorbar": {
                            "outlinewidth": 0,
                            "ticks": ""
                          }
                        },
                        "type": "scattergl"
                      }
                    ],
                    "scattermap": [
                      {
                        "marker": {
                          "colorbar": {
                            "outlinewidth": 0,
                            "ticks": ""
                          }
                        },
                        "type": "scattermap"
                      }
                    ],
                    "scattermapbox": [
                      {
                        "marker": {
                          "colorbar": {
                            "outlinewidth": 0,
                            "ticks": ""
                          }
                        },
                        "type": "scattermapbox"
                      }
                    ],
                    "scatterpolar": [
                      {
                        "marker": {
                          "colorbar": {
                            "outlinewidth": 0,
                            "ticks": ""
                          }
                        },
                        "type": "scatterpolar"
                      }
                    ],
                    "scatterpolargl": [
                      {
                        "marker": {
                          "colorbar": {
                            "outlinewidth": 0,
                            "ticks": ""
                          }
                        },
                        "type": "scatterpolargl"
                      }
                    ],
                    "scatterternary": [
                      {
                        "marker": {
                          "colorbar": {
                            "outlinewidth": 0,
                            "ticks": ""
                          }
                        },
                        "type": "scatterternary"
                      }
                    ],
                    "surface": [
                      {
                        "colorbar": {
                          "outlinewidth": 0,
                          "ticks": ""
                        },
                        "colorscale": [
                          [
                            0,
                            "#0d0887"
                          ],
                          [
                            0.1111111111111111,
                            "#46039f"
                          ],
                          [
                            0.2222222222222222,
                            "#7201a8"
                          ],
                          [
                            0.3333333333333333,
                            "#9c179e"
                          ],
                          [
                            0.4444444444444444,
                            "#bd3786"
                          ],
                          [
                            0.5555555555555556,
                            "#d8576b"
                          ],
                          [
                            0.6666666666666666,
                            "#ed7953"
                          ],
                          [
                            0.7777777777777778,
                            "#fb9f3a"
                          ],
                          [
                            0.8888888888888888,
                            "#fdca26"
                          ],
                          [
                            1,
                            "#f0f921"
                          ]
                        ],
                        "type": "surface"
                      }
                    ],
                    "table": [
                      {
                        "cells": {
                          "fill": {
                            "color": "#EBF0F8"
                          },
                          "line": {
                            "color": "white"
                          }
                        },
                        "header": {
                          "fill": {
                            "color": "#C8D4E3"
                          },
                          "line": {
                            "color": "white"
                          }
                        },
                        "type": "table"
                      }
                    ]
                  },
                  "layout": {
                    "annotationdefaults": {
                      "arrowcolor": "#2a3f5f",
                      "arrowhead": 0,
                      "arrowwidth": 1
                    },
                    "autotypenumbers": "strict",
                    "coloraxis": {
                      "colorbar": {
                        "outlinewidth": 0,
                        "ticks": ""
                      }
                    },
                    "colorscale": {
                      "diverging": [
                        [
                          0,
                          "#8e0152"
                        ],
                        [
                          0.1,
                          "#c51b7d"
                        ],
                        [
                          0.2,
                          "#de77ae"
                        ],
                        [
                          0.3,
                          "#f1b6da"
                        ],
                        [
                          0.4,
                          "#fde0ef"
                        ],
                        [
                          0.5,
                          "#f7f7f7"
                        ],
                        [
                          0.6,
                          "#e6f5d0"
                        ],
                        [
                          0.7,
                          "#b8e186"
                        ],
                        [
                          0.8,
                          "#7fbc41"
                        ],
                        [
                          0.9,
                          "#4d9221"
                        ],
                        [
                          1,
                          "#276419"
                        ]
                      ],
                      "sequential": [
                        [
                          0,
                          "#0d0887"
                        ],
                        [
                          0.1111111111111111,
                          "#46039f"
                        ],
                        [
                          0.2222222222222222,
                          "#7201a8"
                        ],
                        [
                          0.3333333333333333,
                          "#9c179e"
                        ],
                        [
                          0.4444444444444444,
                          "#bd3786"
                        ],
                        [
                          0.5555555555555556,
                          "#d8576b"
                        ],
                        [
                          0.6666666666666666,
                          "#ed7953"
                        ],
                        [
                          0.7777777777777778,
                          "#fb9f3a"
                        ],
                        [
                          0.8888888888888888,
                          "#fdca26"
                        ],
                        [
                          1,
                          "#f0f921"
                        ]
                      ],
                      "sequentialminus": [
                        [
                          0,
                          "#0d0887"
                        ],
                        [
                          0.1111111111111111,
                          "#46039f"
                        ],
                        [
                          0.2222222222222222,
                          "#7201a8"
                        ],
                        [
                          0.3333333333333333,
                          "#9c179e"
                        ],
                        [
                          0.4444444444444444,
                          "#bd3786"
                        ],
                        [
                          0.5555555555555556,
                          "#d8576b"
                        ],
                        [
                          0.6666666666666666,
                          "#ed7953"
                        ],
                        [
                          0.7777777777777778,
                          "#fb9f3a"
                        ],
                        [
                          0.8888888888888888,
                          "#fdca26"
                        ],
                        [
                          1,
                          "#f0f921"
                        ]
                      ]
                    },
                    "colorway": [
                      "#636efa",
                      "#EF553B",
                      "#00cc96",
                      "#ab63fa",
                      "#FFA15A",
                      "#19d3f3",
                      "#FF6692",
                      "#B6E880",
                      "#FF97FF",
                      "#FECB52"
                    ],
                    "font": {
                      "color": "#2a3f5f"
                    },
                    "geo": {
                      "bgcolor": "white",
                      "lakecolor": "white",
                      "landcolor": "#E5ECF6",
                      "showlakes": true,
                      "showland": true,
                      "subunitcolor": "white"
                    },
                    "hoverlabel": {
                      "align": "left"
                    },
                    "hovermode": "closest",
                    "mapbox": {
                      "style": "light"
                    },
                    "paper_bgcolor": "white",
                    "plot_bgcolor": "#E5ECF6",
                    "polar": {
                      "angularaxis": {
                        "gridcolor": "white",
                        "linecolor": "white",
                        "ticks": ""
                      },
                      "bgcolor": "#E5ECF6",
                      "radialaxis": {
                        "gridcolor": "white",
                        "linecolor": "white",
                        "ticks": ""
                      }
                    },
                    "scene": {
                      "xaxis": {
                        "backgroundcolor": "#E5ECF6",
                        "gridcolor": "white",
                        "gridwidth": 2,
                        "linecolor": "white",
                        "showbackground": true,
                        "ticks": "",
                        "zerolinecolor": "white"
                      },
                      "yaxis": {
                        "backgroundcolor": "#E5ECF6",
                        "gridcolor": "white",
                        "gridwidth": 2,
                        "linecolor": "white",
                        "showbackground": true,
                        "ticks": "",
                        "zerolinecolor": "white"
                      },
                      "zaxis": {
                        "backgroundcolor": "#E5ECF6",
                        "gridcolor": "white",
                        "gridwidth": 2,
                        "linecolor": "white",
                        "showbackground": true,
                        "ticks": "",
                        "zerolinecolor": "white"
                      }
                    },
                    "shapedefaults": {
                      "line": {
                        "color": "#2a3f5f"
                      }
                    },
                    "ternary": {
                      "aaxis": {
                        "gridcolor": "white",
                        "linecolor": "white",
                        "ticks": ""
                      },
                      "baxis": {
                        "gridcolor": "white",
                        "linecolor": "white",
                        "ticks": ""
                      },
                      "bgcolor": "#E5ECF6",
                      "caxis": {
                        "gridcolor": "white",
                        "linecolor": "white",
                        "ticks": ""
                      }
                    },
                    "title": {
                      "x": 0.05
                    },
                    "xaxis": {
                      "automargin": true,
                      "gridcolor": "white",
                      "linecolor": "white",
                      "ticks": "",
                      "title": {
                        "standoff": 15
                      },
                      "zerolinecolor": "white",
                      "zerolinewidth": 2
                    },
                    "yaxis": {
                      "automargin": true,
                      "gridcolor": "white",
                      "linecolor": "white",
                      "ticks": "",
                      "title": {
                        "standoff": 15
                      },
                      "zerolinecolor": "white",
                      "zerolinewidth": 2
                    }
                  }
                },
                "width": 600
              }
            }
          },
          "metadata": {},
          "output_type": "display_data"
        }
      ],
      "source": [
        "# Align transformed points\n",
        "aligned_points, R_est, t_est = procrustes_alignment(transformed_points, original_points)\n",
        "\n",
        "# Create aligned point cloud\n",
        "aligned_pcd = o3d.geometry.PointCloud()\n",
        "aligned_pcd.points = o3d.utility.Vector3dVector(aligned_points)\n",
        "aligned_pcd.paint_uniform_color([0.2, 0.2, 0.8])  # Blue\n",
        "\n",
        "# Visualize results\n",
        "o3d.visualization.draw_plotly([original_pcd, transformed_pcd, aligned_pcd],\n",
        "                                 window_name=\"Alignment Results\")"
      ]
    },
    {
      "cell_type": "markdown",
      "id": "601cb121",
      "metadata": {},
      "source": [
        "**Expected Results**:<br>\n",
        "![ProcAl](./../data/proc_align.png)"
      ]
    },
    {
      "cell_type": "markdown",
      "id": "1b7e2134",
      "metadata": {
        "id": "1b7e2134"
      },
      "source": [
        "## 📊 Quantitative Evaluation"
      ]
    },
    {
      "cell_type": "code",
      "execution_count": 35,
      "id": "a618d54c",
      "metadata": {
        "colab": {
          "base_uri": "https://localhost:8080/",
          "height": 122
        },
        "id": "a618d54c",
        "outputId": "a009c8a4-3c18-4926-f4b1-19fa68e3f964"
      },
      "outputs": [
        {
          "data": {
            "text/markdown": [
              "\n",
              "**Alignment Results:**\n",
              "- 🔴 Transformed RMSE: 0.479233\n",
              "- 🔵 Aligned RMSE: 0.000000\n",
              "- 🌀 Rotation Error: 2.591727\n",
              "- 🏃 Translation Error: 0.403587\n"
            ],
            "text/plain": [
              "<IPython.core.display.Markdown object>"
            ]
          },
          "metadata": {},
          "output_type": "display_data"
        }
      ],
      "source": [
        "def calculate_rmse(points_a, points_b):\n",
        "    return np.sqrt(np.mean(np.sum((points_a - points_b)**2, axis=1)))\n",
        "\n",
        "transformed_error = calculate_rmse(transformed_points, original_points)\n",
        "aligned_error = calculate_rmse(aligned_points, original_points)\n",
        "\n",
        "display(Markdown(f\"\"\"\n",
        "**Alignment Results:**\n",
        "- 🔴 Transformed RMSE: {transformed_error:.6f}\n",
        "- 🔵 Aligned RMSE: {aligned_error:.6f}\n",
        "- 🌀 Rotation Error: {np.linalg.norm(R_true - R_est):.6f}\n",
        "- 🏃 Translation Error: {np.linalg.norm(t_true - t_est):.6f}\n",
        "\"\"\"))"
      ]
    },
    {
      "cell_type": "markdown",
      "id": "7cffa860",
      "metadata": {},
      "source": [
        "***Expected Results:***\n",
        "\n",
        "🔴 Transformed RMSE: 0.478296<br>\n",
        "🔵 Aligned RMSE: 0.000000<br>\n",
        "🌀 Rotation Error: 2.591727<br>\n",
        "🏃 Translation Error: 0.597012<br>"
      ]
    },
    {
      "cell_type": "markdown",
      "id": "_rNkHPI4MVye",
      "metadata": {
        "id": "_rNkHPI4MVye"
      },
      "source": [
        "# 🌀 Create Scaled, Rotated & Translated Cloud"
      ]
    },
    {
      "cell_type": "code",
      "execution_count": null,
      "id": "fVR0hfdTMPpO",
      "metadata": {
        "colab": {
          "base_uri": "https://localhost:8080/",
          "height": 617
        },
        "id": "fVR0hfdTMPpO",
        "outputId": "c5ad94ae-1c52-429f-89e6-fee80067478c"
      },
      "outputs": [],
      "source": [
        "\n",
        "def generate_random_transform():\n",
        "    \"\"\"🎲 Generate random transformation parameters\"\"\"\n",
        "    return {\n",
        "        'scale': np.random.uniform(0.5, 2.0),  # Random scaling factor\n",
        "        'rotation': random_rotation_matrix(),\n",
        "        'translation': np.random.uniform(-0.5, 0.5, size=3)\n",
        "    }\n",
        "\n",
        "def random_rotation_matrix():\n",
        "    \"\"\"🌀 Generate random 3D rotation matrix\"\"\"\n",
        "    theta = np.random.uniform(0, 2*np.pi)  # Random angle\n",
        "    axis = np.random.randn(3)  # Random rotation axis\n",
        "    axis /= np.linalg.norm(axis)\n",
        "    return o3d.geometry.get_rotation_matrix_from_axis_angle(axis * theta)\n",
        "\n",
        "# 🔄 Apply composite transformation\n",
        "transform_params = generate_random_transform()\n",
        "S = np.diag([transform_params['scale']]*3)  # Scaling matrix\n",
        "R = transform_params['rotation']\n",
        "t = transform_params['translation']\n",
        "\n",
        "transformed_points = (R @ S @ original_points.T).T + t\n",
        "\n",
        "# 🔴 Create transformed point cloud\n",
        "transformed_pcd = o3d.geometry.PointCloud()\n",
        "transformed_pcd.points = o3d.utility.Vector3dVector(transformed_points)\n",
        "transformed_pcd.paint_uniform_color([0.8, 0.1, 0.1])  # Crimson red\n",
        "\n",
        "# 📊 Visualize transformation\n",
        "o3d.visualization.draw_plotly([original_pcd, transformed_pcd],\n",
        "                                 window_name=\"Original vs Transformed\",\n",
        "                                 width=800, height=600)"
      ]
    },
    {
      "cell_type": "markdown",
      "id": "20afd617",
      "metadata": {},
      "source": [
        "**Expected behaviour:**<br>\n",
        "![ProcAlign2](./../data/proc_align_final.png)"
      ]
    },
    {
      "cell_type": "markdown",
      "id": "395B-3fiMb6d",
      "metadata": {
        "id": "395B-3fiMb6d"
      },
      "source": [
        "# 🧮 Generalized Procrustes Analysis (8 Points)\n",
        "**Exercise: Complete the implementation of generalized Procrustes Alignment by**\n",
        "- **Centering data**\n",
        "- **Computing S scale, R rotation and t translation**\n",
        "- **Compute the aligned point cloud considering S & R & t**"
      ]
    },
    {
      "cell_type": "code",
      "execution_count": null,
      "id": "EPCzt51TMa3m",
      "metadata": {
        "id": "EPCzt51TMa3m"
      },
      "outputs": [],
      "source": [
        "\n",
        "def generalized_procrustes(source, target):\n",
        "    \"\"\"\n",
        "    📐 Perform Procrustes alignment with scaling\n",
        "    Args:\n",
        "        source: (N,3) source points\n",
        "        target: (N,3) target points\n",
        "    Returns:\n",
        "        aligned_source: (N,3) aligned points\n",
        "        scale: scaling factor\n",
        "        R: (3,3) rotation matrix\n",
        "        t: (3,) translation vector\n",
        "    \"\"\"\n",
        "    # 🎯 Step 1: Center both point clouds\n",
        "    ...\n",
        "\n",
        "    # 📏 Step 2: Compute optimal scaling, rotation and translation\n",
        "    ...\n",
        "    # 🏃 Step 3: Apply full transformation\n",
        "    aligned_source = ...\n",
        "\n",
        "    return aligned_source, scale, R, t"
      ]
    },
    {
      "cell_type": "markdown",
      "id": "dt8bT9cxMxTF",
      "metadata": {
        "id": "dt8bT9cxMxTF"
      },
      "source": [
        "# 🧪 Perform Alignment & Evaluation"
      ]
    },
    {
      "cell_type": "code",
      "execution_count": null,
      "id": "ugzhhgi1Mtc-",
      "metadata": {
        "id": "ugzhhgi1Mtc-"
      },
      "outputs": [],
      "source": [
        "aligned_points, s_est, R_est, t_est = generalized_procrustes(\n",
        "    transformed_points, original_points)"
      ]
    },
    {
      "cell_type": "markdown",
      "id": "DXWinQQ-M3gu",
      "metadata": {
        "id": "DXWinQQ-M3gu"
      },
      "source": [
        "# 🔄 Align transformed points to original"
      ]
    },
    {
      "cell_type": "code",
      "execution_count": null,
      "id": "NQ78xmQwM6bV",
      "metadata": {
        "colab": {
          "base_uri": "https://localhost:8080/"
        },
        "id": "NQ78xmQwM6bV",
        "outputId": "d8f9f48e-46a8-40a2-db79-ef6db76727d0"
      },
      "outputs": [],
      "source": [
        "# 🔵 Create aligned point cloud\n",
        "aligned_pcd = o3d.geometry.PointCloud()\n",
        "aligned_pcd.points = o3d.utility.Vector3dVector(aligned_points)\n",
        "aligned_pcd.paint_uniform_color([0.1, 0.1, 0.8])  # Royal blue"
      ]
    },
    {
      "cell_type": "markdown",
      "id": "5CGImPSzM70t",
      "metadata": {
        "id": "5CGImPSzM70t"
      },
      "source": [
        "# 📊 Visualize all point clouds"
      ]
    },
    {
      "cell_type": "code",
      "execution_count": null,
      "id": "q_UiyATmM9it",
      "metadata": {
        "colab": {
          "base_uri": "https://localhost:8080/",
          "height": 617
        },
        "id": "q_UiyATmM9it",
        "outputId": "46d1aa05-814c-459b-915c-d3ed6738745a"
      },
      "outputs": [],
      "source": [
        "o3d.visualization.draw_plotly([original_pcd, transformed_pcd, aligned_pcd],\n",
        "                                 window_name=\"Alignment Results\",\n",
        "                                 width=800, height=600)"
      ]
    },
    {
      "cell_type": "markdown",
      "id": "b09bd18e",
      "metadata": {},
      "source": [
        "**Expected behaviour:**<br>\n",
        "![ProcAlignGeneral](./../data/proc_align_general_final.png)"
      ]
    },
    {
      "cell_type": "markdown",
      "id": "6MYVGpHyNIXd",
      "metadata": {
        "id": "6MYVGpHyNIXd"
      },
      "source": [
        "# 📈 Quantitative Analysis"
      ]
    },
    {
      "cell_type": "code",
      "execution_count": null,
      "id": "Z6GJwnTJNIN9",
      "metadata": {
        "id": "Z6GJwnTJNIN9"
      },
      "outputs": [],
      "source": [
        "def calculate_metrics(true_params, est_params):\n",
        "    \"\"\"📏 Calculate transformation parameter errors\"\"\"\n",
        "    return {\n",
        "        'scale_error': abs(true_params['scale'] - est_params['scale']),\n",
        "        'rotation_error': np.linalg.norm(true_params['rotation'] - est_params['R']),\n",
        "        'translation_error': np.linalg.norm(true_params['translation'] - est_params['t'])\n",
        "    }\n",
        "\n",
        "# 🧮 Calculate errors\n",
        "errors = calculate_metrics(transform_params,\n",
        "                          {'scale': s_est, 'R': R_est, 't': t_est})"
      ]
    },
    {
      "cell_type": "markdown",
      "id": "LgwmuO0nNS5t",
      "metadata": {
        "id": "LgwmuO0nNS5t"
      },
      "source": [
        "# 📊 Create formatted results display"
      ]
    },
    {
      "cell_type": "code",
      "execution_count": null,
      "id": "mi_pBNY9NILl",
      "metadata": {
        "colab": {
          "base_uri": "https://localhost:8080/",
          "height": 220
        },
        "id": "mi_pBNY9NILl",
        "outputId": "3d600d13-a259-42be-c766-7ef67a403877"
      },
      "outputs": [],
      "source": [
        "result_text = f\"\"\"\n",
        "## 📊 Alignment Results\n",
        "\n",
        "| Metric               | Value          |\n",
        "|----------------------|----------------|\n",
        "| 🔴 Initial Scale     | {transform_params['scale']:.4f} |\n",
        "| 🔵 Estimated Scale   | {s_est:.4f} |\n",
        "| 🌀 Scale Error       | {errors['scale_error']:.6f} |\n",
        "\n",
        "| 🔴 Rot. Error        | {errors['rotation_error']:.6f} |\n",
        "| 🔴 Trans. Error      | {errors['translation_error']:.6f} |\n",
        "\"\"\"\n",
        "\n",
        "display(Markdown(result_text))"
      ]
    },
    {
      "cell_type": "markdown",
      "id": "9670eab7",
      "metadata": {},
      "source": [
        "📊 ***Expected Alignment Results<br>***\n",
        "Metric   -       \tValue <br>\n",
        "🔴 Initial Scale -\t1.7487<br>\n",
        "🔵 Estimated Scale -\t0.5719<br>\n",
        "🌀 Scale Error -\t1.176799<br>\n",
        "| 🔴 Rot. Error | 2.749609 | | 🔴 Trans. Error | 0.374494 |<br>"
      ]
    },
    {
      "cell_type": "markdown",
      "id": "keyR5xV-NXfF",
      "metadata": {
        "id": "keyR5xV-NXfF"
      },
      "source": [
        "# 🎨 3D Matplotlib Visualization"
      ]
    },
    {
      "cell_type": "code",
      "execution_count": null,
      "id": "vE_-nge4NV5d",
      "metadata": {
        "colab": {
          "base_uri": "https://localhost:8080/",
          "height": 946
        },
        "id": "vE_-nge4NV5d",
        "outputId": "057144ca-48ce-4e37-fbf2-432529dd877c"
      },
      "outputs": [],
      "source": [
        "fig = plt.figure(figsize=(10, 8))\n",
        "ax = fig.add_subplot(111, projection='3d')\n",
        "\n",
        "# Plot point clouds\n",
        "ax.scatter(original_points[:,0], original_points[:,1], original_points[:,2],\n",
        "          c='green', label='Original', s=10, alpha=0.5)\n",
        "ax.scatter(transformed_points[:,0], transformed_points[:,1], transformed_points[:,2],\n",
        "          c='red', label='Transformed', s=10, alpha=0.5)\n",
        "ax.scatter(aligned_points[:,0], aligned_points[:,1], aligned_points[:,2],\n",
        "          c='blue', label='Aligned', s=10, alpha=0.8)\n",
        "\n",
        "# Format plot\n",
        "ax.set_title('3D Point Cloud Alignment Comparison 🌐')\n",
        "ax.set_xlabel('X Axis')\n",
        "ax.set_ylabel('Y Axis')\n",
        "ax.set_zlabel('Z Axis')\n",
        "ax.legend()\n",
        "plt.tight_layout()\n",
        "plt.show()"
      ]
    },
    {
      "cell_type": "markdown",
      "id": "6df80782",
      "metadata": {},
      "source": [
        "**Expected behaviour:**<br>\n",
        "![PCDAlign](./../data/pcd_alignment.png)"
      ]
    },
    {
      "cell_type": "markdown",
      "id": "b0403154",
      "metadata": {
        "id": "b0403154"
      },
      "source": [
        "## 🎉 Conclusion\n",
        "1. Procrustes Alignment effectively recovers rigid transformations\n",
        "2. Essential for point cloud registration\n",
        "3. Foundation for complex alignment algorithms"
      ]
    }
  ],
  "metadata": {
    "colab": {
      "provenance": []
    },
    "kernelspec": {
      "display_name": "3DVision-ex3",
      "language": "python",
      "name": "python3"
    },
    "language_info": {
      "codemirror_mode": {
        "name": "ipython",
        "version": 3
      },
      "file_extension": ".py",
      "mimetype": "text/x-python",
      "name": "python",
      "nbconvert_exporter": "python",
      "pygments_lexer": "ipython3",
      "version": "3.12.11"
    }
  },
  "nbformat": 4,
  "nbformat_minor": 5
}
