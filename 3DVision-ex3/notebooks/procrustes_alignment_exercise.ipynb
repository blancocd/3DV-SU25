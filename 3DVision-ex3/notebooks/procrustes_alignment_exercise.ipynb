{
  "cells": [
    {
      "cell_type": "markdown",
      "id": "cedf4add",
      "metadata": {
        "id": "cedf4add"
      },
      "source": [
        "# 📚 Procrustes Alignment Exercise on Standford Bunny 🐇 (16 Points)\n",
        "## 🔍 Align 3D Point Clouds with Rigid Transformations"
      ]
    },
    {
      "cell_type": "markdown",
      "id": "ad60cb35",
      "metadata": {
        "id": "ad60cb35"
      },
      "source": [
        "## 🛠 Setup Environment\n",
        "First, let's install required packages:"
      ]
    },
    {
      "cell_type": "markdown",
      "id": "6952a6dc",
      "metadata": {
        "id": "6952a6dc"
      },
      "source": [
        "## 📦 Import Libraries"
      ]
    },
    {
      "cell_type": "code",
      "execution_count": null,
      "id": "58920826",
      "metadata": {
        "id": "58920826"
      },
      "outputs": [],
      "source": [
        "import open3d as o3d\n",
        "import numpy as np\n",
        "import matplotlib.pyplot as plt\n",
        "from IPython.display import Markdown\n",
        "\n",
        "# Set random seed for reproducibility\n",
        "np.random.seed(42)"
      ]
    },
    {
      "cell_type": "markdown",
      "id": "44a676be",
      "metadata": {
        "id": "44a676be"
      },
      "source": [
        "## 🐰 Load Stanford Bunny"
      ]
    },
    {
      "cell_type": "code",
      "execution_count": null,
      "id": "e25b16cd",
      "metadata": {
        "colab": {
          "base_uri": "https://localhost:8080/",
          "height": 417
        },
        "id": "e25b16cd",
        "outputId": "75cc2026-5b86-438d-ca27-40a73f3203e1"
      },
      "outputs": [],
      "source": [
        "# Target point cloud\n",
        "mesh_path = o3d.data.BunnyMesh().path  # Updated for newer Open3D versions\n",
        "mesh = o3d.io.read_triangle_mesh(mesh_path)\n",
        "pcd = mesh.sample_points_poisson_disk(750)\n",
        "original_points = np.asarray(pcd.points)\n",
        "\n",
        "# 🌈 Visualize original point cloud\n",
        "original_pcd = pcd\n",
        "original_pcd.paint_uniform_color([0.2, 0.8, 0.2])  # Green\n",
        "o3d.visualization.draw_plotly([original_pcd],\n",
        "                                 window_name=\"Original Bunny\")"
      ]
    },
    {
      "cell_type": "markdown",
      "id": "d62d7dd7",
      "metadata": {
        "id": "d62d7dd7"
      },
      "source": [
        "## 🌀 Create Transformed Point Cloud"
      ]
    },
    {
      "cell_type": "code",
      "execution_count": null,
      "id": "a6b45435",
      "metadata": {
        "colab": {
          "base_uri": "https://localhost:8080/",
          "height": 417
        },
        "id": "a6b45435",
        "outputId": "b99c79e5-ba53-4811-afbd-ccbdba455e60"
      },
      "outputs": [],
      "source": [
        "def random_rotation_matrix():\n",
        "    \"\"\"Generate random 3D rotation matrix using SVD\"\"\"\n",
        "    rand_mat = np.random.rand(3, 3)\n",
        "    U, _, Vt = np.linalg.svd(rand_mat)\n",
        "    R = U @ Vt\n",
        "    if np.linalg.det(R) < 0:\n",
        "        Vt[-1,:] *= -1\n",
        "        R = U @ Vt\n",
        "    return R\n",
        "\n",
        "# Create transformation components\n",
        "R_true = random_rotation_matrix()\n",
        "t_true = np.random.rand(3) * 0.3\n",
        "\n",
        "# Apply transformation\n",
        "transformed_points = (R_true @ original_points.T).T + t_true\n",
        "\n",
        "# Create transformed point cloud\n",
        "transformed_pcd = o3d.geometry.PointCloud()\n",
        "transformed_pcd.points = o3d.utility.Vector3dVector(transformed_points)\n",
        "transformed_pcd.paint_uniform_color([0.8, 0.2, 0.2])  # Red\n",
        "\n",
        "# Visualize both clouds\n",
        "o3d.visualization.draw_plotly([original_pcd, transformed_pcd],\n",
        "                                 window_name=\"Original vs Transformed\")"
      ]
    },
    {
      "cell_type": "markdown",
      "id": "ed582cd0",
      "metadata": {
        "id": "ed582cd0"
      },
      "source": [
        "## 🧮 Procrustes Alignment Implementation (8 Points)\n",
        "**Exercise: Complete the implementation of Procrustes Alignment by**\n",
        "- **Centering data**\n",
        "- **Computing R rotation and t translation**\n",
        "- **Compute the aligned point cloud considering R&t**"
      ]
    },
    {
      "cell_type": "code",
      "execution_count": null,
      "id": "9c7ab7b7",
      "metadata": {
        "id": "9c7ab7b7"
      },
      "outputs": [],
      "source": [
        "def procrustes_alignment(source, target):\n",
        "    \"\"\"\n",
        "    📐 Perform Procrustes alignment of source to target\n",
        "    Args:\n",
        "        source: (N,3) array of source points\n",
        "        target: (N,3) array of target points\n",
        "    Returns:\n",
        "        aligned_source: (N,3) aligned source points\n",
        "        R: (3,3) rotation matrix\n",
        "        t: (3,) translation vector\n",
        "    \"\"\"\n",
        "    # 🎯 Step 1: Center the data\n",
        "    ...\n",
        "\n",
        "    # 🔍 Step 2: Compute rotation and translation estimates\n",
        "    ...\n",
        "\n",
        "    #  Step 3: Align points\n",
        "    aligned_source = ...\n",
        "\n",
        "    return aligned_source, R, t"
      ]
    },
    {
      "cell_type": "markdown",
      "id": "05f42608",
      "metadata": {
        "id": "05f42608"
      },
      "source": [
        "## 🧪 Apply Procrustes Alignment"
      ]
    },
    {
      "cell_type": "code",
      "execution_count": null,
      "id": "fde55dca",
      "metadata": {
        "colab": {
          "base_uri": "https://localhost:8080/",
          "height": 417
        },
        "id": "fde55dca",
        "outputId": "f8f78738-a5c5-4d95-e0ea-d0fbe5150538"
      },
      "outputs": [],
      "source": [
        "# Align transformed points\n",
        "aligned_points, R_est, t_est = procrustes_alignment(transformed_points, original_points)\n",
        "\n",
        "# Create aligned point cloud\n",
        "aligned_pcd = o3d.geometry.PointCloud()\n",
        "aligned_pcd.points = o3d.utility.Vector3dVector(aligned_points)\n",
        "aligned_pcd.paint_uniform_color([0.2, 0.2, 0.8])  # Blue\n",
        "\n",
        "# Visualize results\n",
        "o3d.visualization.draw_plotly([original_pcd, transformed_pcd, aligned_pcd],\n",
        "                                 window_name=\"Alignment Results\")"
      ]
    },
    {
      "cell_type": "markdown",
      "id": "601cb121",
      "metadata": {},
      "source": [
        "**Expected Results**:<br>\n",
        "![ProcAl](./../data/proc_align.png)"
      ]
    },
    {
      "cell_type": "markdown",
      "id": "1b7e2134",
      "metadata": {
        "id": "1b7e2134"
      },
      "source": [
        "## 📊 Quantitative Evaluation"
      ]
    },
    {
      "cell_type": "code",
      "execution_count": null,
      "id": "a618d54c",
      "metadata": {
        "colab": {
          "base_uri": "https://localhost:8080/",
          "height": 122
        },
        "id": "a618d54c",
        "outputId": "a009c8a4-3c18-4926-f4b1-19fa68e3f964"
      },
      "outputs": [],
      "source": [
        "def calculate_rmse(points_a, points_b):\n",
        "    return np.sqrt(np.mean(np.sum((points_a - points_b)**2, axis=1)))\n",
        "\n",
        "transformed_error = calculate_rmse(transformed_points, original_points)\n",
        "aligned_error = calculate_rmse(aligned_points, original_points)\n",
        "\n",
        "display(Markdown(f\"\"\"\n",
        "**Alignment Results:**\n",
        "- 🔴 Transformed RMSE: {transformed_error:.6f}\n",
        "- 🔵 Aligned RMSE: {aligned_error:.6f}\n",
        "- 🌀 Rotation Error: {np.linalg.norm(R_true - R_est):.6f}\n",
        "- 🏃 Translation Error: {np.linalg.norm(t_true - t_est):.6f}\n",
        "\"\"\"))"
      ]
    },
    {
      "cell_type": "markdown",
      "id": "7cffa860",
      "metadata": {},
      "source": [
        "***Expected Results:***\n",
        "\n",
        "🔴 Transformed RMSE: 0.478296<br>\n",
        "🔵 Aligned RMSE: 0.000000<br>\n",
        "🌀 Rotation Error: 2.591727<br>\n",
        "🏃 Translation Error: 0.597012<br>"
      ]
    },
    {
      "cell_type": "markdown",
      "id": "_rNkHPI4MVye",
      "metadata": {
        "id": "_rNkHPI4MVye"
      },
      "source": [
        "# 🌀 Create Scaled, Rotated & Translated Cloud"
      ]
    },
    {
      "cell_type": "code",
      "execution_count": null,
      "id": "fVR0hfdTMPpO",
      "metadata": {
        "colab": {
          "base_uri": "https://localhost:8080/",
          "height": 617
        },
        "id": "fVR0hfdTMPpO",
        "outputId": "c5ad94ae-1c52-429f-89e6-fee80067478c"
      },
      "outputs": [],
      "source": [
        "\n",
        "def generate_random_transform():\n",
        "    \"\"\"🎲 Generate random transformation parameters\"\"\"\n",
        "    return {\n",
        "        'scale': np.random.uniform(0.5, 2.0),  # Random scaling factor\n",
        "        'rotation': random_rotation_matrix(),\n",
        "        'translation': np.random.uniform(-0.5, 0.5, size=3)\n",
        "    }\n",
        "\n",
        "def random_rotation_matrix():\n",
        "    \"\"\"🌀 Generate random 3D rotation matrix\"\"\"\n",
        "    theta = np.random.uniform(0, 2*np.pi)  # Random angle\n",
        "    axis = np.random.randn(3)  # Random rotation axis\n",
        "    axis /= np.linalg.norm(axis)\n",
        "    return o3d.geometry.get_rotation_matrix_from_axis_angle(axis * theta)\n",
        "\n",
        "# 🔄 Apply composite transformation\n",
        "transform_params = generate_random_transform()\n",
        "S = np.diag([transform_params['scale']]*3)  # Scaling matrix\n",
        "R = transform_params['rotation']\n",
        "t = transform_params['translation']\n",
        "\n",
        "transformed_points = (R @ S @ original_points.T).T + t\n",
        "\n",
        "# 🔴 Create transformed point cloud\n",
        "transformed_pcd = o3d.geometry.PointCloud()\n",
        "transformed_pcd.points = o3d.utility.Vector3dVector(transformed_points)\n",
        "transformed_pcd.paint_uniform_color([0.8, 0.1, 0.1])  # Crimson red\n",
        "\n",
        "# 📊 Visualize transformation\n",
        "o3d.visualization.draw_plotly([original_pcd, transformed_pcd],\n",
        "                                 window_name=\"Original vs Transformed\",\n",
        "                                 width=800, height=600)"
      ]
    },
    {
      "cell_type": "markdown",
      "id": "20afd617",
      "metadata": {},
      "source": [
        "**Expected behaviour:**<br>\n",
        "![ProcAlign2](./../data/proc_align_final.png)"
      ]
    },
    {
      "cell_type": "markdown",
      "id": "395B-3fiMb6d",
      "metadata": {
        "id": "395B-3fiMb6d"
      },
      "source": [
        "# 🧮 Generalized Procrustes Analysis (8 Points)\n",
        "**Exercise: Complete the implementation of generalized Procrustes Alignment by**\n",
        "- **Centering data**\n",
        "- **Computing S scale, R rotation and t translation**\n",
        "- **Compute the aligned point cloud considering S & R & t**"
      ]
    },
    {
      "cell_type": "code",
      "execution_count": null,
      "id": "EPCzt51TMa3m",
      "metadata": {
        "id": "EPCzt51TMa3m"
      },
      "outputs": [],
      "source": [
        "\n",
        "def generalized_procrustes(source, target):\n",
        "    \"\"\"\n",
        "    📐 Perform Procrustes alignment with scaling\n",
        "    Args:\n",
        "        source: (N,3) source points\n",
        "        target: (N,3) target points\n",
        "    Returns:\n",
        "        aligned_source: (N,3) aligned points\n",
        "        scale: scaling factor\n",
        "        R: (3,3) rotation matrix\n",
        "        t: (3,) translation vector\n",
        "    \"\"\"\n",
        "    # 🎯 Step 1: Center both point clouds\n",
        "    ...\n",
        "\n",
        "    # 📏 Step 2: Compute optimal scaling, rotation and translation\n",
        "    ...\n",
        "    # 🏃 Step 3: Apply full transformation\n",
        "    aligned_source = ...\n",
        "\n",
        "    return aligned_source, scale, R, t"
      ]
    },
    {
      "cell_type": "markdown",
      "id": "dt8bT9cxMxTF",
      "metadata": {
        "id": "dt8bT9cxMxTF"
      },
      "source": [
        "# 🧪 Perform Alignment & Evaluation"
      ]
    },
    {
      "cell_type": "code",
      "execution_count": null,
      "id": "ugzhhgi1Mtc-",
      "metadata": {
        "id": "ugzhhgi1Mtc-"
      },
      "outputs": [],
      "source": [
        "aligned_points, s_est, R_est, t_est = generalized_procrustes(\n",
        "    transformed_points, original_points)"
      ]
    },
    {
      "cell_type": "markdown",
      "id": "DXWinQQ-M3gu",
      "metadata": {
        "id": "DXWinQQ-M3gu"
      },
      "source": [
        "# 🔄 Align transformed points to original"
      ]
    },
    {
      "cell_type": "code",
      "execution_count": null,
      "id": "NQ78xmQwM6bV",
      "metadata": {
        "colab": {
          "base_uri": "https://localhost:8080/"
        },
        "id": "NQ78xmQwM6bV",
        "outputId": "d8f9f48e-46a8-40a2-db79-ef6db76727d0"
      },
      "outputs": [],
      "source": [
        "# 🔵 Create aligned point cloud\n",
        "aligned_pcd = o3d.geometry.PointCloud()\n",
        "aligned_pcd.points = o3d.utility.Vector3dVector(aligned_points)\n",
        "aligned_pcd.paint_uniform_color([0.1, 0.1, 0.8])  # Royal blue"
      ]
    },
    {
      "cell_type": "markdown",
      "id": "5CGImPSzM70t",
      "metadata": {
        "id": "5CGImPSzM70t"
      },
      "source": [
        "# 📊 Visualize all point clouds"
      ]
    },
    {
      "cell_type": "code",
      "execution_count": null,
      "id": "q_UiyATmM9it",
      "metadata": {
        "colab": {
          "base_uri": "https://localhost:8080/",
          "height": 617
        },
        "id": "q_UiyATmM9it",
        "outputId": "46d1aa05-814c-459b-915c-d3ed6738745a"
      },
      "outputs": [],
      "source": [
        "o3d.visualization.draw_plotly([original_pcd, transformed_pcd, aligned_pcd],\n",
        "                                 window_name=\"Alignment Results\",\n",
        "                                 width=800, height=600)"
      ]
    },
    {
      "cell_type": "markdown",
      "id": "b09bd18e",
      "metadata": {},
      "source": [
        "**Expected behaviour:**<br>\n",
        "![ProcAlignGeneral](./../data/proc_align_general_final.png)"
      ]
    },
    {
      "cell_type": "markdown",
      "id": "6MYVGpHyNIXd",
      "metadata": {
        "id": "6MYVGpHyNIXd"
      },
      "source": [
        "# 📈 Quantitative Analysis"
      ]
    },
    {
      "cell_type": "code",
      "execution_count": null,
      "id": "Z6GJwnTJNIN9",
      "metadata": {
        "id": "Z6GJwnTJNIN9"
      },
      "outputs": [],
      "source": [
        "def calculate_metrics(true_params, est_params):\n",
        "    \"\"\"📏 Calculate transformation parameter errors\"\"\"\n",
        "    return {\n",
        "        'scale_error': abs(true_params['scale'] - est_params['scale']),\n",
        "        'rotation_error': np.linalg.norm(true_params['rotation'] - est_params['R']),\n",
        "        'translation_error': np.linalg.norm(true_params['translation'] - est_params['t'])\n",
        "    }\n",
        "\n",
        "# 🧮 Calculate errors\n",
        "errors = calculate_metrics(transform_params,\n",
        "                          {'scale': s_est, 'R': R_est, 't': t_est})"
      ]
    },
    {
      "cell_type": "markdown",
      "id": "LgwmuO0nNS5t",
      "metadata": {
        "id": "LgwmuO0nNS5t"
      },
      "source": [
        "# 📊 Create formatted results display"
      ]
    },
    {
      "cell_type": "code",
      "execution_count": null,
      "id": "mi_pBNY9NILl",
      "metadata": {
        "colab": {
          "base_uri": "https://localhost:8080/",
          "height": 220
        },
        "id": "mi_pBNY9NILl",
        "outputId": "3d600d13-a259-42be-c766-7ef67a403877"
      },
      "outputs": [],
      "source": [
        "result_text = f\"\"\"\n",
        "## 📊 Alignment Results\n",
        "\n",
        "| Metric               | Value          |\n",
        "|----------------------|----------------|\n",
        "| 🔴 Initial Scale     | {transform_params['scale']:.4f} |\n",
        "| 🔵 Estimated Scale   | {s_est:.4f} |\n",
        "| 🌀 Scale Error       | {errors['scale_error']:.6f} |\n",
        "\n",
        "| 🔴 Rot. Error        | {errors['rotation_error']:.6f} |\n",
        "| 🔴 Trans. Error      | {errors['translation_error']:.6f} |\n",
        "\"\"\"\n",
        "\n",
        "display(Markdown(result_text))"
      ]
    },
    {
      "cell_type": "markdown",
      "id": "9670eab7",
      "metadata": {},
      "source": [
        "📊 ***Expected Alignment Results<br>***\n",
        "Metric   -       \tValue <br>\n",
        "🔴 Initial Scale -\t1.7487<br>\n",
        "🔵 Estimated Scale -\t0.5719<br>\n",
        "🌀 Scale Error -\t1.176799<br>\n",
        "| 🔴 Rot. Error | 2.749609 | | 🔴 Trans. Error | 0.374494 |<br>"
      ]
    },
    {
      "cell_type": "markdown",
      "id": "keyR5xV-NXfF",
      "metadata": {
        "id": "keyR5xV-NXfF"
      },
      "source": [
        "# 🎨 3D Matplotlib Visualization"
      ]
    },
    {
      "cell_type": "code",
      "execution_count": null,
      "id": "vE_-nge4NV5d",
      "metadata": {
        "colab": {
          "base_uri": "https://localhost:8080/",
          "height": 946
        },
        "id": "vE_-nge4NV5d",
        "outputId": "057144ca-48ce-4e37-fbf2-432529dd877c"
      },
      "outputs": [],
      "source": [
        "fig = plt.figure(figsize=(10, 8))\n",
        "ax = fig.add_subplot(111, projection='3d')\n",
        "\n",
        "# Plot point clouds\n",
        "ax.scatter(original_points[:,0], original_points[:,1], original_points[:,2],\n",
        "          c='green', label='Original', s=10, alpha=0.5)\n",
        "ax.scatter(transformed_points[:,0], transformed_points[:,1], transformed_points[:,2],\n",
        "          c='red', label='Transformed', s=10, alpha=0.5)\n",
        "ax.scatter(aligned_points[:,0], aligned_points[:,1], aligned_points[:,2],\n",
        "          c='blue', label='Aligned', s=10, alpha=0.8)\n",
        "\n",
        "# Format plot\n",
        "ax.set_title('3D Point Cloud Alignment Comparison 🌐')\n",
        "ax.set_xlabel('X Axis')\n",
        "ax.set_ylabel('Y Axis')\n",
        "ax.set_zlabel('Z Axis')\n",
        "ax.legend()\n",
        "plt.tight_layout()\n",
        "plt.show()"
      ]
    },
    {
      "cell_type": "markdown",
      "id": "6df80782",
      "metadata": {},
      "source": [
        "**Expected behaviour:**<br>\n",
        "![PCDAlign](./../data/pcd_alignment.png)"
      ]
    },
    {
      "cell_type": "markdown",
      "id": "b0403154",
      "metadata": {
        "id": "b0403154"
      },
      "source": [
        "## 🎉 Conclusion\n",
        "1. Procrustes Alignment effectively recovers rigid transformations\n",
        "2. Essential for point cloud registration\n",
        "3. Foundation for complex alignment algorithms"
      ]
    }
  ],
  "metadata": {
    "colab": {
      "provenance": []
    },
    "kernelspec": {
      "display_name": "3DVision-ex3",
      "language": "python",
      "name": "python3"
    },
    "language_info": {
      "codemirror_mode": {
        "name": "ipython",
        "version": 3
      },
      "file_extension": ".py",
      "mimetype": "text/x-python",
      "name": "python",
      "nbconvert_exporter": "python",
      "pygments_lexer": "ipython3",
      "version": "3.12.0"
    }
  },
  "nbformat": 4,
  "nbformat_minor": 5
}
